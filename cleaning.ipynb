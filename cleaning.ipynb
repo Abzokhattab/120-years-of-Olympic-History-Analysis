{
  "nbformat": 4,
  "nbformat_minor": 5,
  "metadata": {
    "colab": {
      "name": "Untitled.ipynb",
      "provenance": [],
      "collapsed_sections": [
        "rCj4eqgBnOb_",
        "RJ88biAkYNxG"
      ]
    },
    "kernelspec": {
      "display_name": "Python 3",
      "language": "python",
      "name": "python3"
    },
    "language_info": {
      "codemirror_mode": {
        "name": "ipython",
        "version": 3
      },
      "file_extension": ".py",
      "mimetype": "text/x-python",
      "name": "python",
      "nbconvert_exporter": "python",
      "pygments_lexer": "ipython3",
      "version": "3.7.10"
    }
  },
  "cells": [
    {
      "cell_type": "code",
      "metadata": {
        "id": "363ac9fd"
      },
      "source": [
        "import numpy as np \n",
        "import pandas as pd\n",
        "import seaborn as sns\n",
        "import matplotlib.pyplot as plt\n",
        "import missingno as msno\n",
        "#LOF\n",
        "from sklearn.neighbors import LocalOutlierFactor\n"
      ],
      "id": "363ac9fd",
      "execution_count": 1,
      "outputs": []
    },
    {
      "cell_type": "code",
      "metadata": {
        "id": "dfbb10f3"
      },
      "source": [
        "#olympicRecords = pd.read_csv('athlete_events.csv')\n",
        "#regions = pd.read_csv('noc_regions.csv')\n",
        "olympicRecords = pd.read_csv(\"https://raw.githubusercontent.com/Abzokhattab/120-years-of-Olympic-History-Analysis/main/athlete_events.csv\",index_col=0)\n",
        "regions = pd.read_csv(\"https://raw.githubusercontent.com/Abzokhattab/120-years-of-Olympic-History-Analysis/main/noc_regions.csv\",index_col=0)\n"
      ],
      "id": "dfbb10f3",
      "execution_count": 2,
      "outputs": []
    },
    {
      "cell_type": "code",
      "metadata": {
        "colab": {
          "base_uri": "https://localhost:8080/",
          "height": 324
        },
        "id": "eee0afc8",
        "outputId": "56e548f9-a5f0-48e3-dbb7-2c8d20c289f7"
      },
      "source": [
        "olympicRecords.head()"
      ],
      "id": "eee0afc8",
      "execution_count": 3,
      "outputs": [
        {
          "output_type": "execute_result",
          "data": {
            "text/html": [
              "<div>\n",
              "<style scoped>\n",
              "    .dataframe tbody tr th:only-of-type {\n",
              "        vertical-align: middle;\n",
              "    }\n",
              "\n",
              "    .dataframe tbody tr th {\n",
              "        vertical-align: top;\n",
              "    }\n",
              "\n",
              "    .dataframe thead th {\n",
              "        text-align: right;\n",
              "    }\n",
              "</style>\n",
              "<table border=\"1\" class=\"dataframe\">\n",
              "  <thead>\n",
              "    <tr style=\"text-align: right;\">\n",
              "      <th></th>\n",
              "      <th>Name</th>\n",
              "      <th>Sex</th>\n",
              "      <th>Age</th>\n",
              "      <th>Height</th>\n",
              "      <th>Weight</th>\n",
              "      <th>Team</th>\n",
              "      <th>NOC</th>\n",
              "      <th>Games</th>\n",
              "      <th>Year</th>\n",
              "      <th>Season</th>\n",
              "      <th>City</th>\n",
              "      <th>Sport</th>\n",
              "      <th>Event</th>\n",
              "      <th>Medal</th>\n",
              "    </tr>\n",
              "    <tr>\n",
              "      <th>ID</th>\n",
              "      <th></th>\n",
              "      <th></th>\n",
              "      <th></th>\n",
              "      <th></th>\n",
              "      <th></th>\n",
              "      <th></th>\n",
              "      <th></th>\n",
              "      <th></th>\n",
              "      <th></th>\n",
              "      <th></th>\n",
              "      <th></th>\n",
              "      <th></th>\n",
              "      <th></th>\n",
              "      <th></th>\n",
              "    </tr>\n",
              "  </thead>\n",
              "  <tbody>\n",
              "    <tr>\n",
              "      <th>1</th>\n",
              "      <td>A Dijiang</td>\n",
              "      <td>M</td>\n",
              "      <td>24.0</td>\n",
              "      <td>180.0</td>\n",
              "      <td>80.0</td>\n",
              "      <td>China</td>\n",
              "      <td>CHN</td>\n",
              "      <td>1992 Summer</td>\n",
              "      <td>1992</td>\n",
              "      <td>Summer</td>\n",
              "      <td>Barcelona</td>\n",
              "      <td>Basketball</td>\n",
              "      <td>Basketball Men's Basketball</td>\n",
              "      <td>NaN</td>\n",
              "    </tr>\n",
              "    <tr>\n",
              "      <th>2</th>\n",
              "      <td>A Lamusi</td>\n",
              "      <td>M</td>\n",
              "      <td>23.0</td>\n",
              "      <td>170.0</td>\n",
              "      <td>60.0</td>\n",
              "      <td>China</td>\n",
              "      <td>CHN</td>\n",
              "      <td>2012 Summer</td>\n",
              "      <td>2012</td>\n",
              "      <td>Summer</td>\n",
              "      <td>London</td>\n",
              "      <td>Judo</td>\n",
              "      <td>Judo Men's Extra-Lightweight</td>\n",
              "      <td>NaN</td>\n",
              "    </tr>\n",
              "    <tr>\n",
              "      <th>3</th>\n",
              "      <td>Gunnar Nielsen Aaby</td>\n",
              "      <td>M</td>\n",
              "      <td>24.0</td>\n",
              "      <td>NaN</td>\n",
              "      <td>NaN</td>\n",
              "      <td>Denmark</td>\n",
              "      <td>DEN</td>\n",
              "      <td>1920 Summer</td>\n",
              "      <td>1920</td>\n",
              "      <td>Summer</td>\n",
              "      <td>Antwerpen</td>\n",
              "      <td>Football</td>\n",
              "      <td>Football Men's Football</td>\n",
              "      <td>NaN</td>\n",
              "    </tr>\n",
              "    <tr>\n",
              "      <th>4</th>\n",
              "      <td>Edgar Lindenau Aabye</td>\n",
              "      <td>M</td>\n",
              "      <td>34.0</td>\n",
              "      <td>NaN</td>\n",
              "      <td>NaN</td>\n",
              "      <td>Denmark/Sweden</td>\n",
              "      <td>DEN</td>\n",
              "      <td>1900 Summer</td>\n",
              "      <td>1900</td>\n",
              "      <td>Summer</td>\n",
              "      <td>Paris</td>\n",
              "      <td>Tug-Of-War</td>\n",
              "      <td>Tug-Of-War Men's Tug-Of-War</td>\n",
              "      <td>Gold</td>\n",
              "    </tr>\n",
              "    <tr>\n",
              "      <th>5</th>\n",
              "      <td>Christine Jacoba Aaftink</td>\n",
              "      <td>F</td>\n",
              "      <td>21.0</td>\n",
              "      <td>185.0</td>\n",
              "      <td>82.0</td>\n",
              "      <td>Netherlands</td>\n",
              "      <td>NED</td>\n",
              "      <td>1988 Winter</td>\n",
              "      <td>1988</td>\n",
              "      <td>Winter</td>\n",
              "      <td>Calgary</td>\n",
              "      <td>Speed Skating</td>\n",
              "      <td>Speed Skating Women's 500 metres</td>\n",
              "      <td>NaN</td>\n",
              "    </tr>\n",
              "  </tbody>\n",
              "</table>\n",
              "</div>"
            ],
            "text/plain": [
              "                        Name Sex  ...                             Event  Medal\n",
              "ID                                ...                                         \n",
              "1                  A Dijiang   M  ...       Basketball Men's Basketball    NaN\n",
              "2                   A Lamusi   M  ...      Judo Men's Extra-Lightweight    NaN\n",
              "3        Gunnar Nielsen Aaby   M  ...           Football Men's Football    NaN\n",
              "4       Edgar Lindenau Aabye   M  ...       Tug-Of-War Men's Tug-Of-War   Gold\n",
              "5   Christine Jacoba Aaftink   F  ...  Speed Skating Women's 500 metres    NaN\n",
              "\n",
              "[5 rows x 14 columns]"
            ]
          },
          "metadata": {},
          "execution_count": 3
        }
      ]
    },
    {
      "cell_type": "code",
      "metadata": {
        "colab": {
          "base_uri": "https://localhost:8080/",
          "height": 238
        },
        "id": "074171f7",
        "outputId": "62069825-dfcb-4584-b478-da86cbd9142b"
      },
      "source": [
        "regions.head()"
      ],
      "id": "074171f7",
      "execution_count": 4,
      "outputs": [
        {
          "output_type": "execute_result",
          "data": {
            "text/html": [
              "<div>\n",
              "<style scoped>\n",
              "    .dataframe tbody tr th:only-of-type {\n",
              "        vertical-align: middle;\n",
              "    }\n",
              "\n",
              "    .dataframe tbody tr th {\n",
              "        vertical-align: top;\n",
              "    }\n",
              "\n",
              "    .dataframe thead th {\n",
              "        text-align: right;\n",
              "    }\n",
              "</style>\n",
              "<table border=\"1\" class=\"dataframe\">\n",
              "  <thead>\n",
              "    <tr style=\"text-align: right;\">\n",
              "      <th></th>\n",
              "      <th>region</th>\n",
              "      <th>notes</th>\n",
              "    </tr>\n",
              "    <tr>\n",
              "      <th>NOC</th>\n",
              "      <th></th>\n",
              "      <th></th>\n",
              "    </tr>\n",
              "  </thead>\n",
              "  <tbody>\n",
              "    <tr>\n",
              "      <th>AFG</th>\n",
              "      <td>Afghanistan</td>\n",
              "      <td>NaN</td>\n",
              "    </tr>\n",
              "    <tr>\n",
              "      <th>AHO</th>\n",
              "      <td>Curacao</td>\n",
              "      <td>Netherlands Antilles</td>\n",
              "    </tr>\n",
              "    <tr>\n",
              "      <th>ALB</th>\n",
              "      <td>Albania</td>\n",
              "      <td>NaN</td>\n",
              "    </tr>\n",
              "    <tr>\n",
              "      <th>ALG</th>\n",
              "      <td>Algeria</td>\n",
              "      <td>NaN</td>\n",
              "    </tr>\n",
              "    <tr>\n",
              "      <th>AND</th>\n",
              "      <td>Andorra</td>\n",
              "      <td>NaN</td>\n",
              "    </tr>\n",
              "  </tbody>\n",
              "</table>\n",
              "</div>"
            ],
            "text/plain": [
              "          region                 notes\n",
              "NOC                                   \n",
              "AFG  Afghanistan                   NaN\n",
              "AHO      Curacao  Netherlands Antilles\n",
              "ALB      Albania                   NaN\n",
              "ALG      Algeria                   NaN\n",
              "AND      Andorra                   NaN"
            ]
          },
          "metadata": {},
          "execution_count": 4
        }
      ]
    },
    {
      "cell_type": "markdown",
      "metadata": {
        "id": "Q-oirybfE1Ed"
      },
      "source": [
        "\n",
        "# Data Exploration"
      ],
      "id": "Q-oirybfE1Ed"
    },
    {
      "cell_type": "markdown",
      "metadata": {
        "id": "ZkujDoC9Zt63"
      },
      "source": [
        "Dataset exploration (count, mean, min, max, outliers, missing-values)"
      ],
      "id": "ZkujDoC9Zt63"
    },
    {
      "cell_type": "code",
      "metadata": {
        "colab": {
          "base_uri": "https://localhost:8080/"
        },
        "id": "6ddf8e7c",
        "outputId": "5f5b046f-2bc1-47fe-878f-7a744124df73"
      },
      "source": [
        "olympicRecords.shape"
      ],
      "id": "6ddf8e7c",
      "execution_count": 5,
      "outputs": [
        {
          "output_type": "execute_result",
          "data": {
            "text/plain": [
              "(271116, 14)"
            ]
          },
          "metadata": {},
          "execution_count": 5
        }
      ]
    },
    {
      "cell_type": "code",
      "metadata": {
        "colab": {
          "base_uri": "https://localhost:8080/"
        },
        "id": "d4fb2dbd",
        "outputId": "612fc9d2-5f19-43aa-8bc2-b963329066f6"
      },
      "source": [
        "olympicRecords.info()"
      ],
      "id": "d4fb2dbd",
      "execution_count": 6,
      "outputs": [
        {
          "output_type": "stream",
          "name": "stdout",
          "text": [
            "<class 'pandas.core.frame.DataFrame'>\n",
            "Int64Index: 271116 entries, 1 to 135571\n",
            "Data columns (total 14 columns):\n",
            " #   Column  Non-Null Count   Dtype  \n",
            "---  ------  --------------   -----  \n",
            " 0   Name    271116 non-null  object \n",
            " 1   Sex     271116 non-null  object \n",
            " 2   Age     261642 non-null  float64\n",
            " 3   Height  210945 non-null  float64\n",
            " 4   Weight  208241 non-null  float64\n",
            " 5   Team    271116 non-null  object \n",
            " 6   NOC     271116 non-null  object \n",
            " 7   Games   271116 non-null  object \n",
            " 8   Year    271116 non-null  int64  \n",
            " 9   Season  271116 non-null  object \n",
            " 10  City    271116 non-null  object \n",
            " 11  Sport   271116 non-null  object \n",
            " 12  Event   271116 non-null  object \n",
            " 13  Medal   39783 non-null   object \n",
            "dtypes: float64(3), int64(1), object(10)\n",
            "memory usage: 31.0+ MB\n"
          ]
        }
      ]
    },
    {
      "cell_type": "code",
      "metadata": {
        "colab": {
          "base_uri": "https://localhost:8080/",
          "height": 0
        },
        "id": "68407880",
        "outputId": "6a5e985d-ea5d-4a8d-87bd-e222b4e9d1ce"
      },
      "source": [
        "olympicRecords.describe()"
      ],
      "id": "68407880",
      "execution_count": 7,
      "outputs": [
        {
          "output_type": "execute_result",
          "data": {
            "text/html": [
              "<div>\n",
              "<style scoped>\n",
              "    .dataframe tbody tr th:only-of-type {\n",
              "        vertical-align: middle;\n",
              "    }\n",
              "\n",
              "    .dataframe tbody tr th {\n",
              "        vertical-align: top;\n",
              "    }\n",
              "\n",
              "    .dataframe thead th {\n",
              "        text-align: right;\n",
              "    }\n",
              "</style>\n",
              "<table border=\"1\" class=\"dataframe\">\n",
              "  <thead>\n",
              "    <tr style=\"text-align: right;\">\n",
              "      <th></th>\n",
              "      <th>Age</th>\n",
              "      <th>Height</th>\n",
              "      <th>Weight</th>\n",
              "      <th>Year</th>\n",
              "    </tr>\n",
              "  </thead>\n",
              "  <tbody>\n",
              "    <tr>\n",
              "      <th>count</th>\n",
              "      <td>261642.000000</td>\n",
              "      <td>210945.000000</td>\n",
              "      <td>208241.000000</td>\n",
              "      <td>271116.000000</td>\n",
              "    </tr>\n",
              "    <tr>\n",
              "      <th>mean</th>\n",
              "      <td>25.556898</td>\n",
              "      <td>175.338970</td>\n",
              "      <td>70.702393</td>\n",
              "      <td>1978.378480</td>\n",
              "    </tr>\n",
              "    <tr>\n",
              "      <th>std</th>\n",
              "      <td>6.393561</td>\n",
              "      <td>10.518462</td>\n",
              "      <td>14.348020</td>\n",
              "      <td>29.877632</td>\n",
              "    </tr>\n",
              "    <tr>\n",
              "      <th>min</th>\n",
              "      <td>10.000000</td>\n",
              "      <td>127.000000</td>\n",
              "      <td>25.000000</td>\n",
              "      <td>1896.000000</td>\n",
              "    </tr>\n",
              "    <tr>\n",
              "      <th>25%</th>\n",
              "      <td>21.000000</td>\n",
              "      <td>168.000000</td>\n",
              "      <td>60.000000</td>\n",
              "      <td>1960.000000</td>\n",
              "    </tr>\n",
              "    <tr>\n",
              "      <th>50%</th>\n",
              "      <td>24.000000</td>\n",
              "      <td>175.000000</td>\n",
              "      <td>70.000000</td>\n",
              "      <td>1988.000000</td>\n",
              "    </tr>\n",
              "    <tr>\n",
              "      <th>75%</th>\n",
              "      <td>28.000000</td>\n",
              "      <td>183.000000</td>\n",
              "      <td>79.000000</td>\n",
              "      <td>2002.000000</td>\n",
              "    </tr>\n",
              "    <tr>\n",
              "      <th>max</th>\n",
              "      <td>97.000000</td>\n",
              "      <td>226.000000</td>\n",
              "      <td>214.000000</td>\n",
              "      <td>2016.000000</td>\n",
              "    </tr>\n",
              "  </tbody>\n",
              "</table>\n",
              "</div>"
            ],
            "text/plain": [
              "                 Age         Height         Weight           Year\n",
              "count  261642.000000  210945.000000  208241.000000  271116.000000\n",
              "mean       25.556898     175.338970      70.702393    1978.378480\n",
              "std         6.393561      10.518462      14.348020      29.877632\n",
              "min        10.000000     127.000000      25.000000    1896.000000\n",
              "25%        21.000000     168.000000      60.000000    1960.000000\n",
              "50%        24.000000     175.000000      70.000000    1988.000000\n",
              "75%        28.000000     183.000000      79.000000    2002.000000\n",
              "max        97.000000     226.000000     214.000000    2016.000000"
            ]
          },
          "metadata": {},
          "execution_count": 7
        }
      ]
    },
    {
      "cell_type": "code",
      "metadata": {
        "colab": {
          "base_uri": "https://localhost:8080/"
        },
        "id": "25daba2d",
        "outputId": "c1d342aa-f823-45e8-84ea-6c4cdf383e9f"
      },
      "source": [
        "print(olympicRecords.isnull().sum())"
      ],
      "id": "25daba2d",
      "execution_count": 8,
      "outputs": [
        {
          "output_type": "stream",
          "name": "stdout",
          "text": [
            "Name           0\n",
            "Sex            0\n",
            "Age         9474\n",
            "Height     60171\n",
            "Weight     62875\n",
            "Team           0\n",
            "NOC            0\n",
            "Games          0\n",
            "Year           0\n",
            "Season         0\n",
            "City           0\n",
            "Sport          0\n",
            "Event          0\n",
            "Medal     231333\n",
            "dtype: int64\n"
          ]
        }
      ]
    },
    {
      "cell_type": "markdown",
      "metadata": {
        "id": "6yzqj46sImRL"
      },
      "source": [
        "The following bar chart shows which columns has missing values \n",
        "as we can notice, the `Age`, `Height`,`Weight` and `Medal` columns have missing  values "
      ],
      "id": "6yzqj46sImRL"
    },
    {
      "cell_type": "code",
      "metadata": {
        "colab": {
          "base_uri": "https://localhost:8080/",
          "height": 0
        },
        "id": "9lQQqFKlktbe",
        "outputId": "3c17ad97-fb63-4618-c803-c42df51e4e04"
      },
      "source": [
        "msno.bar(olympicRecords)\n"
      ],
      "id": "9lQQqFKlktbe",
      "execution_count": 9,
      "outputs": [
        {
          "output_type": "execute_result",
          "data": {
            "text/plain": [
              "<matplotlib.axes._subplots.AxesSubplot at 0x7fadf6212a10>"
            ]
          },
          "metadata": {},
          "execution_count": 9
        },
        {
          "output_type": "display_data",
          "data": {
            "image/png": "[encoded data removed]",
            "text/plain": [
              "<Figure size 1800x720 with 3 Axes>"
            ]
          },
          "metadata": {
            "needs_background": "light"
          }
        }
      ]
    },
    {
      "cell_type": "markdown",
      "metadata": {
        "id": "CE9NRcdrJX00"
      },
      "source": [
        "Also as shown in the bar char, the `Medal` column has a lot of missing values <br> so lets explore all columns that have missing values and plot then before and after the data cleaning process "
      ],
      "id": "CE9NRcdrJX00"
    },
    {
      "cell_type": "markdown",
      "metadata": {
        "id": "ZLnvw-hHFJxE"
      },
      "source": [
        "**`Distribution of  medals  across the dataset`**\n"
      ],
      "id": "ZLnvw-hHFJxE"
    },
    {
      "cell_type": "code",
      "metadata": {
        "colab": {
          "base_uri": "https://localhost:8080/"
        },
        "id": "TI7LDuznHLne",
        "outputId": "bc9a61b6-e02c-4d46-9f21-f80f6b859ce6"
      },
      "source": [
        "print(olympicRecords.Medal.value_counts())\n",
        "print(olympicRecords.Medal.unique())\n"
      ],
      "id": "TI7LDuznHLne",
      "execution_count": 10,
      "outputs": [
        {
          "output_type": "stream",
          "name": "stdout",
          "text": [
            "Gold      13372\n",
            "Bronze    13295\n",
            "Silver    13116\n",
            "Name: Medal, dtype: int64\n",
            "[nan 'Gold' 'Bronze' 'Silver']\n"
          ]
        }
      ]
    },
    {
      "cell_type": "markdown",
      "metadata": {
        "id": "pwr-G1n8d3wp"
      },
      "source": [
        "- Although the medal column contains NAN values, they do not appear in the graph, so we will hardcode these values later in this notebook by converting them from \"NA\" to \"non\" in the handling missing values section.\n",
        "- We also notice that the counts for all three medal types are similar (balanced)"
      ],
      "id": "pwr-G1n8d3wp"
    },
    {
      "cell_type": "code",
      "metadata": {
        "id": "R9bTixPeFQ7z",
        "colab": {
          "base_uri": "https://localhost:8080/",
          "height": 0
        },
        "outputId": "3f33fce9-02ec-4f39-e95d-d7c64618e47c"
      },
      "source": [
        "plt.title(\"Distribution of  medals  across the dataset before handling missing values\")\n",
        "sns.countplot(x = \"Medal\", data = olympicRecords )\n",
        "sns.despine()"
      ],
      "id": "R9bTixPeFQ7z",
      "execution_count": 11,
      "outputs": [
        {
          "output_type": "display_data",
          "data": {
            "image/png": "[encoded data removed]",
            "text/plain": [
              "<Figure size 432x288 with 1 Axes>"
            ]
          },
          "metadata": {
            "needs_background": "light"
          }
        }
      ]
    },
    {
      "cell_type": "markdown",
      "metadata": {
        "id": "3Bsog8zkKNiT"
      },
      "source": [
        "For continuous variables, we need to understand the central tendency and spread of the variable. Univariate analysis is also used to highlight missing and outlier values.  "
      ],
      "id": "3Bsog8zkKNiT"
    },
    {
      "cell_type": "markdown",
      "metadata": {
        "id": "BCaX71HQNS4Q"
      },
      "source": [
        "The graphs below show the distribution of age, height, and weight across the dataset, as well as the outlier values in the dataset, as shown in the boxplot."
      ],
      "id": "BCaX71HQNS4Q"
    },
    {
      "cell_type": "code",
      "metadata": {
        "colab": {
          "base_uri": "https://localhost:8080/",
          "height": 0
        },
        "id": "zyFpVBpZKJ2N",
        "outputId": "eb23a0b2-3826-4dbe-df7b-4a26b47479fd"
      },
      "source": [
        "sns.set(rc={'figure.figsize':(10,9)})\n",
        "fig, ax =plt.subplots(1,2)\n",
        "sns.distplot(olympicRecords[\"Age\"],  ax=ax[0]) \n",
        "sns.boxplot(olympicRecords[\"Age\"],  ax=ax[1]) \n",
        "fig.show()"
      ],
      "id": "zyFpVBpZKJ2N",
      "execution_count": 12,
      "outputs": [
        {
          "output_type": "stream",
          "name": "stderr",
          "text": [
            "/usr/local/lib/python3.7/dist-packages/seaborn/distributions.py:2619: FutureWarning: `distplot` is a deprecated function and will be removed in a future version. Please adapt your code to use either `displot` (a figure-level function with similar flexibility) or `histplot` (an axes-level function for histograms).\n",
            "  warnings.warn(msg, FutureWarning)\n",
            "/usr/local/lib/python3.7/dist-packages/seaborn/_decorators.py:43: FutureWarning: Pass the following variable as a keyword arg: x. From version 0.12, the only valid positional argument will be `data`, and passing other arguments without an explicit keyword will result in an error or misinterpretation.\n",
            "  FutureWarning\n"
          ]
        },
        {
          "output_type": "display_data",
          "data": {
            "image/png": "[encoded data removed]",
            "text/plain": [
              "<Figure size 720x648 with 2 Axes>"
            ]
          },
          "metadata": {}
        }
      ]
    },
    {
      "cell_type": "code",
      "metadata": {
        "colab": {
          "base_uri": "https://localhost:8080/",
          "height": 0
        },
        "id": "vUwoyfrgKa6M",
        "outputId": "37bae41e-b1fa-4931-8280-8f1fae9377ab"
      },
      "source": [
        "plt.figure(figsize=(10, 5), dpi=130)\n",
        "fig, ax =plt.subplots(1,2)\n",
        "sns.distplot(olympicRecords[\"Height\"],  ax=ax[0]) \n",
        "sns.boxplot(olympicRecords[\"Height\"],  ax=ax[1]) \n",
        "fig.show()"
      ],
      "id": "vUwoyfrgKa6M",
      "execution_count": 13,
      "outputs": [
        {
          "output_type": "stream",
          "name": "stderr",
          "text": [
            "/usr/local/lib/python3.7/dist-packages/seaborn/distributions.py:2619: FutureWarning: `distplot` is a deprecated function and will be removed in a future version. Please adapt your code to use either `displot` (a figure-level function with similar flexibility) or `histplot` (an axes-level function for histograms).\n",
            "  warnings.warn(msg, FutureWarning)\n",
            "/usr/local/lib/python3.7/dist-packages/seaborn/_decorators.py:43: FutureWarning: Pass the following variable as a keyword arg: x. From version 0.12, the only valid positional argument will be `data`, and passing other arguments without an explicit keyword will result in an error or misinterpretation.\n",
            "  FutureWarning\n"
          ]
        },
        {
          "output_type": "display_data",
          "data": {
            "text/plain": [
              "<Figure size 1300x650 with 0 Axes>"
            ]
          },
          "metadata": {}
        },
        {
          "output_type": "display_data",
          "data": {
            "image/png": "[encoded data removed]",
            "text/plain": [
              "<Figure size 720x648 with 2 Axes>"
            ]
          },
          "metadata": {}
        }
      ]
    },
    {
      "cell_type": "code",
      "metadata": {
        "colab": {
          "base_uri": "https://localhost:8080/",
          "height": 0
        },
        "id": "R7SWov2lKecC",
        "outputId": "937af085-d246-443f-f8f5-17c31f6c74f9"
      },
      "source": [
        "fig, ax =plt.subplots(1,2)\n",
        "plt.figure(figsize=(10, 5), dpi=130)\n",
        "sns.distplot(olympicRecords[\"Weight\"],  ax=ax[0]) \n",
        "sns.boxplot(olympicRecords[\"Weight\"],  ax=ax[1]) \n",
        "fig.show()\n",
        "#reset size\n",
        "sns.reset_orig"
      ],
      "id": "R7SWov2lKecC",
      "execution_count": 16,
      "outputs": [
        {
          "output_type": "stream",
          "name": "stderr",
          "text": [
            "/usr/local/lib/python3.7/dist-packages/seaborn/distributions.py:2619: FutureWarning: `distplot` is a deprecated function and will be removed in a future version. Please adapt your code to use either `displot` (a figure-level function with similar flexibility) or `histplot` (an axes-level function for histograms).\n",
            "  warnings.warn(msg, FutureWarning)\n",
            "/usr/local/lib/python3.7/dist-packages/seaborn/_decorators.py:43: FutureWarning: Pass the following variable as a keyword arg: x. From version 0.12, the only valid positional argument will be `data`, and passing other arguments without an explicit keyword will result in an error or misinterpretation.\n",
            "  FutureWarning\n"
          ]
        },
        {
          "output_type": "execute_result",
          "data": {
            "text/plain": [
              "<function seaborn.rcmod.reset_orig>"
            ]
          },
          "metadata": {},
          "execution_count": 16
        },
        {
          "output_type": "display_data",
          "data": {
            "image/png": "[encoded data removed]",
            "text/plain": [
              "<Figure size 720x648 with 2 Axes>"
            ]
          },
          "metadata": {}
        },
        {
          "output_type": "display_data",
          "data": {
            "text/plain": [
              "<Figure size 1300x650 with 0 Axes>"
            ]
          },
          "metadata": {}
        }
      ]
    },
    {
      "cell_type": "markdown",
      "metadata": {
        "id": "z5n17QPAN8WR"
      },
      "source": [
        "We know that the height, age, and weight have outliers and missing values, so let's see if there is any relationship between vars before we deal with them.\n",
        "\n"
      ],
      "id": "z5n17QPAN8WR"
    },
    {
      "cell_type": "markdown",
      "metadata": {
        "id": "HOufyMC1MKfl"
      },
      "source": [
        " Visualize the correlation "
      ],
      "id": "HOufyMC1MKfl"
    },
    {
      "cell_type": "code",
      "metadata": {
        "colab": {
          "base_uri": "https://localhost:8080/",
          "height": 0
        },
        "id": "Fk2btIsGXE4W",
        "outputId": "506e468f-c54d-44b1-abc4-023e9fe66ee4"
      },
      "source": [
        "fig = plt.figure(figsize=(8, 5), dpi=130)\n",
        "sns.heatmap(olympicRecords.corr(),annot =True)"
      ],
      "id": "Fk2btIsGXE4W",
      "execution_count": 17,
      "outputs": [
        {
          "output_type": "execute_result",
          "data": {
            "text/plain": [
              "<matplotlib.axes._subplots.AxesSubplot at 0x7fadec223a50>"
            ]
          },
          "metadata": {},
          "execution_count": 17
        },
        {
          "output_type": "display_data",
          "data": {
            "image/png": "[encoded data removed]",
            "text/plain": [
              "<Figure size 1040x650 with 2 Axes>"
            ]
          },
          "metadata": {}
        }
      ]
    },
    {
      "cell_type": "markdown",
      "metadata": {
        "id": "UAjxnc-WRtpi"
      },
      "source": [
        "the previous heatmap chart show a strong relationship between the height and the weight which means we can predict height's missing values depending on the weight value "
      ],
      "id": "UAjxnc-WRtpi"
    },
    {
      "cell_type": "markdown",
      "metadata": {
        "id": "O1pi1pTWl4G6"
      },
      "source": [
        "#Cleaning the Data"
      ],
      "id": "O1pi1pTWl4G6"
    },
    {
      "cell_type": "markdown",
      "metadata": {
        "id": "1an2JPY3Dk9V"
      },
      "source": [
        "The notes column will be removed, because the notes column is irrelevant to our analysis."
      ],
      "id": "1an2JPY3Dk9V"
    },
    {
      "cell_type": "code",
      "metadata": {
        "id": "16519b1f"
      },
      "source": [
        "regions.drop('notes', axis = 1, inplace = True)\n",
        "regions.rename(columns = {'region':'Country'}, inplace = True)"
      ],
      "id": "16519b1f",
      "execution_count": 18,
      "outputs": []
    },
    {
      "cell_type": "code",
      "metadata": {
        "colab": {
          "base_uri": "https://localhost:8080/",
          "height": 0
        },
        "id": "09bd9040",
        "outputId": "d3a360ca-91de-48ca-b71f-b3c99cf59faa"
      },
      "source": [
        "regions.head()"
      ],
      "id": "09bd9040",
      "execution_count": 19,
      "outputs": [
        {
          "output_type": "execute_result",
          "data": {
            "text/html": [
              "<div>\n",
              "<style scoped>\n",
              "    .dataframe tbody tr th:only-of-type {\n",
              "        vertical-align: middle;\n",
              "    }\n",
              "\n",
              "    .dataframe tbody tr th {\n",
              "        vertical-align: top;\n",
              "    }\n",
              "\n",
              "    .dataframe thead th {\n",
              "        text-align: right;\n",
              "    }\n",
              "</style>\n",
              "<table border=\"1\" class=\"dataframe\">\n",
              "  <thead>\n",
              "    <tr style=\"text-align: right;\">\n",
              "      <th></th>\n",
              "      <th>Country</th>\n",
              "    </tr>\n",
              "    <tr>\n",
              "      <th>NOC</th>\n",
              "      <th></th>\n",
              "    </tr>\n",
              "  </thead>\n",
              "  <tbody>\n",
              "    <tr>\n",
              "      <th>AFG</th>\n",
              "      <td>Afghanistan</td>\n",
              "    </tr>\n",
              "    <tr>\n",
              "      <th>AHO</th>\n",
              "      <td>Curacao</td>\n",
              "    </tr>\n",
              "    <tr>\n",
              "      <th>ALB</th>\n",
              "      <td>Albania</td>\n",
              "    </tr>\n",
              "    <tr>\n",
              "      <th>ALG</th>\n",
              "      <td>Algeria</td>\n",
              "    </tr>\n",
              "    <tr>\n",
              "      <th>AND</th>\n",
              "      <td>Andorra</td>\n",
              "    </tr>\n",
              "  </tbody>\n",
              "</table>\n",
              "</div>"
            ],
            "text/plain": [
              "         Country\n",
              "NOC             \n",
              "AFG  Afghanistan\n",
              "AHO      Curacao\n",
              "ALB      Albania\n",
              "ALG      Algeria\n",
              "AND      Andorra"
            ]
          },
          "metadata": {},
          "execution_count": 19
        }
      ]
    },
    {
      "cell_type": "markdown",
      "metadata": {
        "id": "53JB28Z8mtR2"
      },
      "source": [
        "### Handling missing values \n",
        "\n"
      ],
      "id": "53JB28Z8mtR2"
    },
    {
      "cell_type": "markdown",
      "metadata": {
        "id": "TnasXYe3Zdov"
      },
      "source": [
        "**We  start by handling the missing values from the medal, weight, height and age attributes **"
      ],
      "id": "TnasXYe3Zdov"
    },
    {
      "cell_type": "markdown",
      "metadata": {
        "id": "-GmUTEERQaKn"
      },
      "source": [
        "By the above values, We can find that Age, Height, Weight and Medals have lot of missing values. The medal column have 231333 missing values. This is fine because not all the participants win a medal. So we will replace this values with `non`"
      ],
      "id": "-GmUTEERQaKn"
    },
    {
      "cell_type": "code",
      "metadata": {
        "id": "b748456b"
      },
      "source": [
        "olympicRecords['Medal'].fillna('non', inplace = True)"
      ],
      "id": "b748456b",
      "execution_count": 20,
      "outputs": []
    },
    {
      "cell_type": "code",
      "metadata": {
        "colab": {
          "base_uri": "https://localhost:8080/"
        },
        "id": "a69edfcd",
        "outputId": "6ab01660-7cfb-42b2-dce0-347b870c5c81"
      },
      "source": [
        "print(olympicRecords.isnull().sum())"
      ],
      "id": "a69edfcd",
      "execution_count": 21,
      "outputs": [
        {
          "output_type": "stream",
          "name": "stdout",
          "text": [
            "Name          0\n",
            "Sex           0\n",
            "Age        9474\n",
            "Height    60171\n",
            "Weight    62875\n",
            "Team          0\n",
            "NOC           0\n",
            "Games         0\n",
            "Year          0\n",
            "Season        0\n",
            "City          0\n",
            "Sport         0\n",
            "Event         0\n",
            "Medal         0\n",
            "dtype: int64\n"
          ]
        }
      ]
    },
    {
      "cell_type": "markdown",
      "metadata": {
        "id": "GsciGls0aNw0"
      },
      "source": [
        "**here we checked if every NOC value is mapped to only a single team as it should be**"
      ],
      "id": "GsciGls0aNw0"
    },
    {
      "cell_type": "code",
      "metadata": {
        "colab": {
          "base_uri": "https://localhost:8080/"
        },
        "id": "87a3030e",
        "outputId": "29a50920-5633-4c66-d41a-36684e2de6c0"
      },
      "source": [
        "print(olympicRecords.loc[:, ['NOC', 'Team']].drop_duplicates()['NOC'].value_counts().head())"
      ],
      "id": "87a3030e",
      "execution_count": 22,
      "outputs": [
        {
          "output_type": "stream",
          "name": "stdout",
          "text": [
            "FRA    160\n",
            "USA     97\n",
            "GBR     96\n",
            "SWE     52\n",
            "NOR     46\n",
            "Name: NOC, dtype: int64\n"
          ]
        }
      ]
    },
    {
      "cell_type": "markdown",
      "metadata": {
        "id": "D3IHZi8zajPZ"
      },
      "source": [
        "**we found that this is not the case and will try next to make every Noc value mapped to only one team by merging this data set with the regions dataset with NOC as the primary key**"
      ],
      "id": "D3IHZi8zajPZ"
    },
    {
      "cell_type": "code",
      "metadata": {
        "id": "53ee2be9"
      },
      "source": [
        "olympics_merge = olympicRecords.merge(regions,\n",
        "                                left_on = 'NOC',\n",
        "                                right_on = 'NOC',\n",
        "                                how = 'left')"
      ],
      "id": "53ee2be9",
      "execution_count": 23,
      "outputs": []
    },
    {
      "cell_type": "code",
      "metadata": {
        "colab": {
          "base_uri": "https://localhost:8080/"
        },
        "id": "3d6525b7",
        "outputId": "bcafb8e4-1766-4344-babf-918dcb999b6a"
      },
      "source": [
        "print(olympicRecords.loc[:, ['NOC', 'Team']].drop_duplicates()['NOC'].value_counts().head())"
      ],
      "id": "3d6525b7",
      "execution_count": 24,
      "outputs": [
        {
          "output_type": "stream",
          "name": "stdout",
          "text": [
            "FRA    160\n",
            "USA     97\n",
            "GBR     96\n",
            "SWE     52\n",
            "NOR     46\n",
            "Name: NOC, dtype: int64\n"
          ]
        }
      ]
    },
    {
      "cell_type": "code",
      "metadata": {
        "colab": {
          "base_uri": "https://localhost:8080/",
          "height": 0
        },
        "id": "4cb63a7b",
        "outputId": "e088fb62-c46e-4888-fad5-012d052884b0"
      },
      "source": [
        "olympics_merge.loc[olympics_merge['Country'].isnull(),['NOC', 'Team']].drop_duplicates()"
      ],
      "id": "4cb63a7b",
      "execution_count": 25,
      "outputs": [
        {
          "output_type": "execute_result",
          "data": {
            "text/html": [
              "<div>\n",
              "<style scoped>\n",
              "    .dataframe tbody tr th:only-of-type {\n",
              "        vertical-align: middle;\n",
              "    }\n",
              "\n",
              "    .dataframe tbody tr th {\n",
              "        vertical-align: top;\n",
              "    }\n",
              "\n",
              "    .dataframe thead th {\n",
              "        text-align: right;\n",
              "    }\n",
              "</style>\n",
              "<table border=\"1\" class=\"dataframe\">\n",
              "  <thead>\n",
              "    <tr style=\"text-align: right;\">\n",
              "      <th></th>\n",
              "      <th>NOC</th>\n",
              "      <th>Team</th>\n",
              "    </tr>\n",
              "  </thead>\n",
              "  <tbody>\n",
              "    <tr>\n",
              "      <th>578</th>\n",
              "      <td>SGP</td>\n",
              "      <td>Singapore</td>\n",
              "    </tr>\n",
              "    <tr>\n",
              "      <th>6267</th>\n",
              "      <td>ROT</td>\n",
              "      <td>Refugee Olympic Athletes</td>\n",
              "    </tr>\n",
              "    <tr>\n",
              "      <th>44376</th>\n",
              "      <td>SGP</td>\n",
              "      <td>June Climene</td>\n",
              "    </tr>\n",
              "    <tr>\n",
              "      <th>61080</th>\n",
              "      <td>UNK</td>\n",
              "      <td>Unknown</td>\n",
              "    </tr>\n",
              "    <tr>\n",
              "      <th>64674</th>\n",
              "      <td>TUV</td>\n",
              "      <td>Tuvalu</td>\n",
              "    </tr>\n",
              "    <tr>\n",
              "      <th>80986</th>\n",
              "      <td>SGP</td>\n",
              "      <td>Rika II</td>\n",
              "    </tr>\n",
              "    <tr>\n",
              "      <th>108582</th>\n",
              "      <td>SGP</td>\n",
              "      <td>Singapore-2</td>\n",
              "    </tr>\n",
              "    <tr>\n",
              "      <th>235895</th>\n",
              "      <td>SGP</td>\n",
              "      <td>Singapore-1</td>\n",
              "    </tr>\n",
              "  </tbody>\n",
              "</table>\n",
              "</div>"
            ],
            "text/plain": [
              "        NOC                      Team\n",
              "578     SGP                 Singapore\n",
              "6267    ROT  Refugee Olympic Athletes\n",
              "44376   SGP              June Climene\n",
              "61080   UNK                   Unknown\n",
              "64674   TUV                    Tuvalu\n",
              "80986   SGP                   Rika II\n",
              "108582  SGP               Singapore-2\n",
              "235895  SGP               Singapore-1"
            ]
          },
          "metadata": {},
          "execution_count": 25
        }
      ]
    },
    {
      "cell_type": "markdown",
      "metadata": {
        "id": "ooyzBD3RbEqK"
      },
      "source": [
        "**after checking we found some countries without NOC so will put it manually**"
      ],
      "id": "ooyzBD3RbEqK"
    },
    {
      "cell_type": "code",
      "metadata": {
        "id": "a1790224"
      },
      "source": [
        "olympics_merge['Country'] = np.where(olympics_merge['NOC']=='SGP', 'Singapore', olympics_merge['Country'])\n",
        "olympics_merge['Country'] = np.where(olympics_merge['NOC']=='ROT', 'Refugee Olympic Athletes', olympics_merge['Country'])\n",
        "olympics_merge['Country'] = np.where(olympics_merge['NOC']=='UNK', 'Unknown', olympics_merge['Country'])\n",
        "olympics_merge['Country'] = np.where(olympics_merge['NOC']=='TUV', 'Tuvalu', olympics_merge['Country'])"
      ],
      "id": "a1790224",
      "execution_count": 26,
      "outputs": []
    },
    {
      "cell_type": "code",
      "metadata": {
        "colab": {
          "base_uri": "https://localhost:8080/",
          "height": 0
        },
        "id": "f3d1f395",
        "outputId": "e2eda13a-ade3-4b11-c4f9-39e30e9fe400"
      },
      "source": [
        "olympics_merge.loc[olympics_merge['Country'].isnull(),['NOC', 'Team']].drop_duplicates()"
      ],
      "id": "f3d1f395",
      "execution_count": 27,
      "outputs": [
        {
          "output_type": "execute_result",
          "data": {
            "text/html": [
              "<div>\n",
              "<style scoped>\n",
              "    .dataframe tbody tr th:only-of-type {\n",
              "        vertical-align: middle;\n",
              "    }\n",
              "\n",
              "    .dataframe tbody tr th {\n",
              "        vertical-align: top;\n",
              "    }\n",
              "\n",
              "    .dataframe thead th {\n",
              "        text-align: right;\n",
              "    }\n",
              "</style>\n",
              "<table border=\"1\" class=\"dataframe\">\n",
              "  <thead>\n",
              "    <tr style=\"text-align: right;\">\n",
              "      <th></th>\n",
              "      <th>NOC</th>\n",
              "      <th>Team</th>\n",
              "    </tr>\n",
              "  </thead>\n",
              "  <tbody>\n",
              "  </tbody>\n",
              "</table>\n",
              "</div>"
            ],
            "text/plain": [
              "Empty DataFrame\n",
              "Columns: [NOC, Team]\n",
              "Index: []"
            ]
          },
          "metadata": {},
          "execution_count": 27
        }
      ]
    },
    {
      "cell_type": "code",
      "metadata": {
        "colab": {
          "base_uri": "https://localhost:8080/"
        },
        "id": "77e8d1f4",
        "outputId": "d5eefa11-0426-4ef4-ea0a-06cf4a4fc3d3"
      },
      "source": [
        "print(olympics_merge.loc[:, ['NOC', 'Country']].drop_duplicates()['NOC'].value_counts().head())"
      ],
      "id": "77e8d1f4",
      "execution_count": 28,
      "outputs": [
        {
          "output_type": "stream",
          "name": "stdout",
          "text": [
            "SAA    1\n",
            "PNG    1\n",
            "TGA    1\n",
            "GEQ    1\n",
            "VAN    1\n",
            "Name: NOC, dtype: int64\n"
          ]
        }
      ]
    },
    {
      "cell_type": "code",
      "metadata": {
        "colab": {
          "base_uri": "https://localhost:8080/",
          "height": 0
        },
        "id": "86b84ee7",
        "outputId": "c118eb74-12e2-4d74-bbf0-529002eecfef"
      },
      "source": [
        "olympics_merge.head()"
      ],
      "id": "86b84ee7",
      "execution_count": 29,
      "outputs": [
        {
          "output_type": "execute_result",
          "data": {
            "text/html": [
              "<div>\n",
              "<style scoped>\n",
              "    .dataframe tbody tr th:only-of-type {\n",
              "        vertical-align: middle;\n",
              "    }\n",
              "\n",
              "    .dataframe tbody tr th {\n",
              "        vertical-align: top;\n",
              "    }\n",
              "\n",
              "    .dataframe thead th {\n",
              "        text-align: right;\n",
              "    }\n",
              "</style>\n",
              "<table border=\"1\" class=\"dataframe\">\n",
              "  <thead>\n",
              "    <tr style=\"text-align: right;\">\n",
              "      <th></th>\n",
              "      <th>Name</th>\n",
              "      <th>Sex</th>\n",
              "      <th>Age</th>\n",
              "      <th>Height</th>\n",
              "      <th>Weight</th>\n",
              "      <th>Team</th>\n",
              "      <th>NOC</th>\n",
              "      <th>Games</th>\n",
              "      <th>Year</th>\n",
              "      <th>Season</th>\n",
              "      <th>City</th>\n",
              "      <th>Sport</th>\n",
              "      <th>Event</th>\n",
              "      <th>Medal</th>\n",
              "      <th>Country</th>\n",
              "    </tr>\n",
              "  </thead>\n",
              "  <tbody>\n",
              "    <tr>\n",
              "      <th>0</th>\n",
              "      <td>A Dijiang</td>\n",
              "      <td>M</td>\n",
              "      <td>24.0</td>\n",
              "      <td>180.0</td>\n",
              "      <td>80.0</td>\n",
              "      <td>China</td>\n",
              "      <td>CHN</td>\n",
              "      <td>1992 Summer</td>\n",
              "      <td>1992</td>\n",
              "      <td>Summer</td>\n",
              "      <td>Barcelona</td>\n",
              "      <td>Basketball</td>\n",
              "      <td>Basketball Men's Basketball</td>\n",
              "      <td>non</td>\n",
              "      <td>China</td>\n",
              "    </tr>\n",
              "    <tr>\n",
              "      <th>1</th>\n",
              "      <td>A Lamusi</td>\n",
              "      <td>M</td>\n",
              "      <td>23.0</td>\n",
              "      <td>170.0</td>\n",
              "      <td>60.0</td>\n",
              "      <td>China</td>\n",
              "      <td>CHN</td>\n",
              "      <td>2012 Summer</td>\n",
              "      <td>2012</td>\n",
              "      <td>Summer</td>\n",
              "      <td>London</td>\n",
              "      <td>Judo</td>\n",
              "      <td>Judo Men's Extra-Lightweight</td>\n",
              "      <td>non</td>\n",
              "      <td>China</td>\n",
              "    </tr>\n",
              "    <tr>\n",
              "      <th>2</th>\n",
              "      <td>Gunnar Nielsen Aaby</td>\n",
              "      <td>M</td>\n",
              "      <td>24.0</td>\n",
              "      <td>NaN</td>\n",
              "      <td>NaN</td>\n",
              "      <td>Denmark</td>\n",
              "      <td>DEN</td>\n",
              "      <td>1920 Summer</td>\n",
              "      <td>1920</td>\n",
              "      <td>Summer</td>\n",
              "      <td>Antwerpen</td>\n",
              "      <td>Football</td>\n",
              "      <td>Football Men's Football</td>\n",
              "      <td>non</td>\n",
              "      <td>Denmark</td>\n",
              "    </tr>\n",
              "    <tr>\n",
              "      <th>3</th>\n",
              "      <td>Edgar Lindenau Aabye</td>\n",
              "      <td>M</td>\n",
              "      <td>34.0</td>\n",
              "      <td>NaN</td>\n",
              "      <td>NaN</td>\n",
              "      <td>Denmark/Sweden</td>\n",
              "      <td>DEN</td>\n",
              "      <td>1900 Summer</td>\n",
              "      <td>1900</td>\n",
              "      <td>Summer</td>\n",
              "      <td>Paris</td>\n",
              "      <td>Tug-Of-War</td>\n",
              "      <td>Tug-Of-War Men's Tug-Of-War</td>\n",
              "      <td>Gold</td>\n",
              "      <td>Denmark</td>\n",
              "    </tr>\n",
              "    <tr>\n",
              "      <th>4</th>\n",
              "      <td>Christine Jacoba Aaftink</td>\n",
              "      <td>F</td>\n",
              "      <td>21.0</td>\n",
              "      <td>185.0</td>\n",
              "      <td>82.0</td>\n",
              "      <td>Netherlands</td>\n",
              "      <td>NED</td>\n",
              "      <td>1988 Winter</td>\n",
              "      <td>1988</td>\n",
              "      <td>Winter</td>\n",
              "      <td>Calgary</td>\n",
              "      <td>Speed Skating</td>\n",
              "      <td>Speed Skating Women's 500 metres</td>\n",
              "      <td>non</td>\n",
              "      <td>Netherlands</td>\n",
              "    </tr>\n",
              "  </tbody>\n",
              "</table>\n",
              "</div>"
            ],
            "text/plain": [
              "                       Name Sex  ...  Medal      Country\n",
              "0                 A Dijiang   M  ...    non        China\n",
              "1                  A Lamusi   M  ...    non        China\n",
              "2       Gunnar Nielsen Aaby   M  ...    non      Denmark\n",
              "3      Edgar Lindenau Aabye   M  ...   Gold      Denmark\n",
              "4  Christine Jacoba Aaftink   F  ...    non  Netherlands\n",
              "\n",
              "[5 rows x 15 columns]"
            ]
          },
          "metadata": {},
          "execution_count": 29
        }
      ]
    },
    {
      "cell_type": "markdown",
      "metadata": {
        "id": "QbelYdaJbkjk"
      },
      "source": [
        "now dropping the old team attribute and replace it with the new one"
      ],
      "id": "QbelYdaJbkjk"
    },
    {
      "cell_type": "code",
      "metadata": {
        "id": "7fbae1f2"
      },
      "source": [
        "olympics_merge.drop('Team', axis = 1, inplace = True)\n",
        "olympics_merge.rename(columns = {'Country': 'Team'}, inplace = True)"
      ],
      "id": "7fbae1f2",
      "execution_count": 30,
      "outputs": []
    },
    {
      "cell_type": "code",
      "metadata": {
        "colab": {
          "base_uri": "https://localhost:8080/"
        },
        "id": "9ee8c7f8",
        "outputId": "aab50c0c-e667-45df-d49d-086598ac5fbc"
      },
      "source": [
        "print(olympics_merge.loc[:, ['NOC', 'Team']].drop_duplicates()['NOC'].value_counts().head())"
      ],
      "id": "9ee8c7f8",
      "execution_count": 31,
      "outputs": [
        {
          "output_type": "stream",
          "name": "stdout",
          "text": [
            "SAA    1\n",
            "PNG    1\n",
            "TGA    1\n",
            "GEQ    1\n",
            "VAN    1\n",
            "Name: NOC, dtype: int64\n"
          ]
        }
      ]
    },
    {
      "cell_type": "code",
      "metadata": {
        "colab": {
          "base_uri": "https://localhost:8080/",
          "height": 0
        },
        "id": "f07e6bc0",
        "outputId": "e7758a10-61e4-4dfd-e6f3-5e0b17b269ab"
      },
      "source": [
        "olympics_merge.head()"
      ],
      "id": "f07e6bc0",
      "execution_count": 32,
      "outputs": [
        {
          "output_type": "execute_result",
          "data": {
            "text/html": [
              "<div>\n",
              "<style scoped>\n",
              "    .dataframe tbody tr th:only-of-type {\n",
              "        vertical-align: middle;\n",
              "    }\n",
              "\n",
              "    .dataframe tbody tr th {\n",
              "        vertical-align: top;\n",
              "    }\n",
              "\n",
              "    .dataframe thead th {\n",
              "        text-align: right;\n",
              "    }\n",
              "</style>\n",
              "<table border=\"1\" class=\"dataframe\">\n",
              "  <thead>\n",
              "    <tr style=\"text-align: right;\">\n",
              "      <th></th>\n",
              "      <th>Name</th>\n",
              "      <th>Sex</th>\n",
              "      <th>Age</th>\n",
              "      <th>Height</th>\n",
              "      <th>Weight</th>\n",
              "      <th>NOC</th>\n",
              "      <th>Games</th>\n",
              "      <th>Year</th>\n",
              "      <th>Season</th>\n",
              "      <th>City</th>\n",
              "      <th>Sport</th>\n",
              "      <th>Event</th>\n",
              "      <th>Medal</th>\n",
              "      <th>Team</th>\n",
              "    </tr>\n",
              "  </thead>\n",
              "  <tbody>\n",
              "    <tr>\n",
              "      <th>0</th>\n",
              "      <td>A Dijiang</td>\n",
              "      <td>M</td>\n",
              "      <td>24.0</td>\n",
              "      <td>180.0</td>\n",
              "      <td>80.0</td>\n",
              "      <td>CHN</td>\n",
              "      <td>1992 Summer</td>\n",
              "      <td>1992</td>\n",
              "      <td>Summer</td>\n",
              "      <td>Barcelona</td>\n",
              "      <td>Basketball</td>\n",
              "      <td>Basketball Men's Basketball</td>\n",
              "      <td>non</td>\n",
              "      <td>China</td>\n",
              "    </tr>\n",
              "    <tr>\n",
              "      <th>1</th>\n",
              "      <td>A Lamusi</td>\n",
              "      <td>M</td>\n",
              "      <td>23.0</td>\n",
              "      <td>170.0</td>\n",
              "      <td>60.0</td>\n",
              "      <td>CHN</td>\n",
              "      <td>2012 Summer</td>\n",
              "      <td>2012</td>\n",
              "      <td>Summer</td>\n",
              "      <td>London</td>\n",
              "      <td>Judo</td>\n",
              "      <td>Judo Men's Extra-Lightweight</td>\n",
              "      <td>non</td>\n",
              "      <td>China</td>\n",
              "    </tr>\n",
              "    <tr>\n",
              "      <th>2</th>\n",
              "      <td>Gunnar Nielsen Aaby</td>\n",
              "      <td>M</td>\n",
              "      <td>24.0</td>\n",
              "      <td>NaN</td>\n",
              "      <td>NaN</td>\n",
              "      <td>DEN</td>\n",
              "      <td>1920 Summer</td>\n",
              "      <td>1920</td>\n",
              "      <td>Summer</td>\n",
              "      <td>Antwerpen</td>\n",
              "      <td>Football</td>\n",
              "      <td>Football Men's Football</td>\n",
              "      <td>non</td>\n",
              "      <td>Denmark</td>\n",
              "    </tr>\n",
              "    <tr>\n",
              "      <th>3</th>\n",
              "      <td>Edgar Lindenau Aabye</td>\n",
              "      <td>M</td>\n",
              "      <td>34.0</td>\n",
              "      <td>NaN</td>\n",
              "      <td>NaN</td>\n",
              "      <td>DEN</td>\n",
              "      <td>1900 Summer</td>\n",
              "      <td>1900</td>\n",
              "      <td>Summer</td>\n",
              "      <td>Paris</td>\n",
              "      <td>Tug-Of-War</td>\n",
              "      <td>Tug-Of-War Men's Tug-Of-War</td>\n",
              "      <td>Gold</td>\n",
              "      <td>Denmark</td>\n",
              "    </tr>\n",
              "    <tr>\n",
              "      <th>4</th>\n",
              "      <td>Christine Jacoba Aaftink</td>\n",
              "      <td>F</td>\n",
              "      <td>21.0</td>\n",
              "      <td>185.0</td>\n",
              "      <td>82.0</td>\n",
              "      <td>NED</td>\n",
              "      <td>1988 Winter</td>\n",
              "      <td>1988</td>\n",
              "      <td>Winter</td>\n",
              "      <td>Calgary</td>\n",
              "      <td>Speed Skating</td>\n",
              "      <td>Speed Skating Women's 500 metres</td>\n",
              "      <td>non</td>\n",
              "      <td>Netherlands</td>\n",
              "    </tr>\n",
              "  </tbody>\n",
              "</table>\n",
              "</div>"
            ],
            "text/plain": [
              "                       Name Sex  ...  Medal         Team\n",
              "0                 A Dijiang   M  ...    non        China\n",
              "1                  A Lamusi   M  ...    non        China\n",
              "2       Gunnar Nielsen Aaby   M  ...    non      Denmark\n",
              "3      Edgar Lindenau Aabye   M  ...   Gold      Denmark\n",
              "4  Christine Jacoba Aaftink   F  ...    non  Netherlands\n",
              "\n",
              "[5 rows x 14 columns]"
            ]
          },
          "metadata": {},
          "execution_count": 32
        }
      ]
    },
    {
      "cell_type": "markdown",
      "metadata": {
        "id": "GODsVO0RcNDR"
      },
      "source": [
        "Now we will add a new column that represents the hosting country as we think it will be very important for answering our upcoming questions in the next milestones "
      ],
      "id": "GODsVO0RcNDR"
    },
    {
      "cell_type": "code",
      "metadata": {
        "colab": {
          "base_uri": "https://localhost:8080/",
          "height": 0
        },
        "id": "02d66bfb",
        "outputId": "7cf2c2bc-b18f-42d2-f576-33c7439a300f"
      },
      "source": [
        "olympics_merge[['Year','City']].drop_duplicates().sort_values('Year')"
      ],
      "id": "02d66bfb",
      "execution_count": 33,
      "outputs": [
        {
          "output_type": "execute_result",
          "data": {
            "text/html": [
              "<div>\n",
              "<style scoped>\n",
              "    .dataframe tbody tr th:only-of-type {\n",
              "        vertical-align: middle;\n",
              "    }\n",
              "\n",
              "    .dataframe tbody tr th {\n",
              "        vertical-align: top;\n",
              "    }\n",
              "\n",
              "    .dataframe thead th {\n",
              "        text-align: right;\n",
              "    }\n",
              "</style>\n",
              "<table border=\"1\" class=\"dataframe\">\n",
              "  <thead>\n",
              "    <tr style=\"text-align: right;\">\n",
              "      <th></th>\n",
              "      <th>Year</th>\n",
              "      <th>City</th>\n",
              "    </tr>\n",
              "  </thead>\n",
              "  <tbody>\n",
              "    <tr>\n",
              "      <th>3079</th>\n",
              "      <td>1896</td>\n",
              "      <td>Athina</td>\n",
              "    </tr>\n",
              "    <tr>\n",
              "      <th>3</th>\n",
              "      <td>1900</td>\n",
              "      <td>Paris</td>\n",
              "    </tr>\n",
              "    <tr>\n",
              "      <th>711</th>\n",
              "      <td>1904</td>\n",
              "      <td>St. Louis</td>\n",
              "    </tr>\n",
              "    <tr>\n",
              "      <th>268</th>\n",
              "      <td>1906</td>\n",
              "      <td>Athina</td>\n",
              "    </tr>\n",
              "    <tr>\n",
              "      <th>1149</th>\n",
              "      <td>1908</td>\n",
              "      <td>London</td>\n",
              "    </tr>\n",
              "    <tr>\n",
              "      <th>35</th>\n",
              "      <td>1912</td>\n",
              "      <td>Stockholm</td>\n",
              "    </tr>\n",
              "    <tr>\n",
              "      <th>2</th>\n",
              "      <td>1920</td>\n",
              "      <td>Antwerpen</td>\n",
              "    </tr>\n",
              "    <tr>\n",
              "      <th>672</th>\n",
              "      <td>1924</td>\n",
              "      <td>Chamonix</td>\n",
              "    </tr>\n",
              "    <tr>\n",
              "      <th>39</th>\n",
              "      <td>1924</td>\n",
              "      <td>Paris</td>\n",
              "    </tr>\n",
              "    <tr>\n",
              "      <th>133</th>\n",
              "      <td>1928</td>\n",
              "      <td>Amsterdam</td>\n",
              "    </tr>\n",
              "    <tr>\n",
              "      <th>935</th>\n",
              "      <td>1928</td>\n",
              "      <td>Sankt Moritz</td>\n",
              "    </tr>\n",
              "    <tr>\n",
              "      <th>1326</th>\n",
              "      <td>1932</td>\n",
              "      <td>Lake Placid</td>\n",
              "    </tr>\n",
              "    <tr>\n",
              "      <th>26</th>\n",
              "      <td>1932</td>\n",
              "      <td>Los Angeles</td>\n",
              "    </tr>\n",
              "    <tr>\n",
              "      <th>1327</th>\n",
              "      <td>1936</td>\n",
              "      <td>Garmisch-Partenkirchen</td>\n",
              "    </tr>\n",
              "    <tr>\n",
              "      <th>94</th>\n",
              "      <td>1936</td>\n",
              "      <td>Berlin</td>\n",
              "    </tr>\n",
              "    <tr>\n",
              "      <th>41</th>\n",
              "      <td>1948</td>\n",
              "      <td>London</td>\n",
              "    </tr>\n",
              "    <tr>\n",
              "      <th>1187</th>\n",
              "      <td>1948</td>\n",
              "      <td>Sankt Moritz</td>\n",
              "    </tr>\n",
              "    <tr>\n",
              "      <th>110</th>\n",
              "      <td>1952</td>\n",
              "      <td>Oslo</td>\n",
              "    </tr>\n",
              "    <tr>\n",
              "      <th>29</th>\n",
              "      <td>1952</td>\n",
              "      <td>Helsinki</td>\n",
              "    </tr>\n",
              "    <tr>\n",
              "      <th>111</th>\n",
              "      <td>1956</td>\n",
              "      <td>Cortina d'Ampezzo</td>\n",
              "    </tr>\n",
              "    <tr>\n",
              "      <th>6194</th>\n",
              "      <td>1956</td>\n",
              "      <td>Stockholm</td>\n",
              "    </tr>\n",
              "    <tr>\n",
              "      <th>128</th>\n",
              "      <td>1956</td>\n",
              "      <td>Melbourne</td>\n",
              "    </tr>\n",
              "    <tr>\n",
              "      <th>83</th>\n",
              "      <td>1960</td>\n",
              "      <td>Squaw Valley</td>\n",
              "    </tr>\n",
              "    <tr>\n",
              "      <th>129</th>\n",
              "      <td>1960</td>\n",
              "      <td>Roma</td>\n",
              "    </tr>\n",
              "    <tr>\n",
              "      <th>85</th>\n",
              "      <td>1964</td>\n",
              "      <td>Innsbruck</td>\n",
              "    </tr>\n",
              "    <tr>\n",
              "      <th>192</th>\n",
              "      <td>1964</td>\n",
              "      <td>Tokyo</td>\n",
              "    </tr>\n",
              "    <tr>\n",
              "      <th>266</th>\n",
              "      <td>1968</td>\n",
              "      <td>Grenoble</td>\n",
              "    </tr>\n",
              "    <tr>\n",
              "      <th>89</th>\n",
              "      <td>1968</td>\n",
              "      <td>Mexico City</td>\n",
              "    </tr>\n",
              "    <tr>\n",
              "      <th>90</th>\n",
              "      <td>1972</td>\n",
              "      <td>Munich</td>\n",
              "    </tr>\n",
              "    <tr>\n",
              "      <th>626</th>\n",
              "      <td>1972</td>\n",
              "      <td>Sapporo</td>\n",
              "    </tr>\n",
              "    <tr>\n",
              "      <th>145</th>\n",
              "      <td>1976</td>\n",
              "      <td>Montreal</td>\n",
              "    </tr>\n",
              "    <tr>\n",
              "      <th>628</th>\n",
              "      <td>1976</td>\n",
              "      <td>Innsbruck</td>\n",
              "    </tr>\n",
              "    <tr>\n",
              "      <th>188</th>\n",
              "      <td>1980</td>\n",
              "      <td>Moskva</td>\n",
              "    </tr>\n",
              "    <tr>\n",
              "      <th>30</th>\n",
              "      <td>1980</td>\n",
              "      <td>Lake Placid</td>\n",
              "    </tr>\n",
              "    <tr>\n",
              "      <th>88</th>\n",
              "      <td>1984</td>\n",
              "      <td>Los Angeles</td>\n",
              "    </tr>\n",
              "    <tr>\n",
              "      <th>87</th>\n",
              "      <td>1984</td>\n",
              "      <td>Sarajevo</td>\n",
              "    </tr>\n",
              "    <tr>\n",
              "      <th>4</th>\n",
              "      <td>1988</td>\n",
              "      <td>Calgary</td>\n",
              "    </tr>\n",
              "    <tr>\n",
              "      <th>91</th>\n",
              "      <td>1988</td>\n",
              "      <td>Seoul</td>\n",
              "    </tr>\n",
              "    <tr>\n",
              "      <th>6</th>\n",
              "      <td>1992</td>\n",
              "      <td>Albertville</td>\n",
              "    </tr>\n",
              "    <tr>\n",
              "      <th>0</th>\n",
              "      <td>1992</td>\n",
              "      <td>Barcelona</td>\n",
              "    </tr>\n",
              "    <tr>\n",
              "      <th>8</th>\n",
              "      <td>1994</td>\n",
              "      <td>Lillehammer</td>\n",
              "    </tr>\n",
              "    <tr>\n",
              "      <th>32</th>\n",
              "      <td>1996</td>\n",
              "      <td>Atlanta</td>\n",
              "    </tr>\n",
              "    <tr>\n",
              "      <th>68</th>\n",
              "      <td>1998</td>\n",
              "      <td>Nagano</td>\n",
              "    </tr>\n",
              "    <tr>\n",
              "      <th>31</th>\n",
              "      <td>2000</td>\n",
              "      <td>Sydney</td>\n",
              "    </tr>\n",
              "    <tr>\n",
              "      <th>28</th>\n",
              "      <td>2002</td>\n",
              "      <td>Salt Lake City</td>\n",
              "    </tr>\n",
              "    <tr>\n",
              "      <th>82</th>\n",
              "      <td>2004</td>\n",
              "      <td>Athina</td>\n",
              "    </tr>\n",
              "    <tr>\n",
              "      <th>77</th>\n",
              "      <td>2006</td>\n",
              "      <td>Torino</td>\n",
              "    </tr>\n",
              "    <tr>\n",
              "      <th>79</th>\n",
              "      <td>2008</td>\n",
              "      <td>Beijing</td>\n",
              "    </tr>\n",
              "    <tr>\n",
              "      <th>245</th>\n",
              "      <td>2010</td>\n",
              "      <td>Vancouver</td>\n",
              "    </tr>\n",
              "    <tr>\n",
              "      <th>1</th>\n",
              "      <td>2012</td>\n",
              "      <td>London</td>\n",
              "    </tr>\n",
              "    <tr>\n",
              "      <th>40</th>\n",
              "      <td>2014</td>\n",
              "      <td>Sochi</td>\n",
              "    </tr>\n",
              "    <tr>\n",
              "      <th>80</th>\n",
              "      <td>2016</td>\n",
              "      <td>Rio de Janeiro</td>\n",
              "    </tr>\n",
              "  </tbody>\n",
              "</table>\n",
              "</div>"
            ],
            "text/plain": [
              "      Year                    City\n",
              "3079  1896                  Athina\n",
              "3     1900                   Paris\n",
              "711   1904               St. Louis\n",
              "268   1906                  Athina\n",
              "1149  1908                  London\n",
              "35    1912               Stockholm\n",
              "2     1920               Antwerpen\n",
              "672   1924                Chamonix\n",
              "39    1924                   Paris\n",
              "133   1928               Amsterdam\n",
              "935   1928            Sankt Moritz\n",
              "1326  1932             Lake Placid\n",
              "26    1932             Los Angeles\n",
              "1327  1936  Garmisch-Partenkirchen\n",
              "94    1936                  Berlin\n",
              "41    1948                  London\n",
              "1187  1948            Sankt Moritz\n",
              "110   1952                    Oslo\n",
              "29    1952                Helsinki\n",
              "111   1956       Cortina d'Ampezzo\n",
              "6194  1956               Stockholm\n",
              "128   1956               Melbourne\n",
              "83    1960            Squaw Valley\n",
              "129   1960                    Roma\n",
              "85    1964               Innsbruck\n",
              "192   1964                   Tokyo\n",
              "266   1968                Grenoble\n",
              "89    1968             Mexico City\n",
              "90    1972                  Munich\n",
              "626   1972                 Sapporo\n",
              "145   1976                Montreal\n",
              "628   1976               Innsbruck\n",
              "188   1980                  Moskva\n",
              "30    1980             Lake Placid\n",
              "88    1984             Los Angeles\n",
              "87    1984                Sarajevo\n",
              "4     1988                 Calgary\n",
              "91    1988                   Seoul\n",
              "6     1992             Albertville\n",
              "0     1992               Barcelona\n",
              "8     1994             Lillehammer\n",
              "32    1996                 Atlanta\n",
              "68    1998                  Nagano\n",
              "31    2000                  Sydney\n",
              "28    2002          Salt Lake City\n",
              "82    2004                  Athina\n",
              "77    2006                  Torino\n",
              "79    2008                 Beijing\n",
              "245   2010               Vancouver\n",
              "1     2012                  London\n",
              "40    2014                   Sochi\n",
              "80    2016          Rio de Janeiro"
            ]
          },
          "metadata": {},
          "execution_count": 33
        }
      ]
    },
    {
      "cell_type": "markdown",
      "metadata": {
        "id": "zZsg07-qcmKR"
      },
      "source": [
        "since we only have the hosting cities we will add the hosting countries manually"
      ],
      "id": "zZsg07-qcmKR"
    },
    {
      "cell_type": "code",
      "metadata": {
        "id": "721b9b92"
      },
      "source": [
        "country_dict = {'Athina':'Greece',\n",
        "                'Paris':'France',\n",
        "                'St. Louis':'USA',\n",
        "                'London':'UK',\n",
        "                'Stockholm':\"Sweden\",\n",
        "                'Antwerpen':'Belgium',\n",
        "                'Amsterdam':'Netherlands',\n",
        "                'Los Angeles':'USA',\n",
        "               'Berlin':'Germany',\n",
        "                'Helsinki':'Finland',\n",
        "                'Melbourne':'Australia',\n",
        "                'Roma':'Italy',\n",
        "                'Tokyo':'Japan',\n",
        "                'Mexico City':'Mexico',\n",
        "                'Munich':'Germany',\n",
        "                'Montreal':'Canada',\n",
        "                'Moskva':'Russia',\n",
        "                'Seoul':'South Korea',\n",
        "               'Barcelona':'Spain',\n",
        "               'Atlanta':'USA',\n",
        "               'Sydney':'Australia',\n",
        "               'Beijing':'China',\n",
        "               'Rio de Janeiro':'Brazil'}"
      ],
      "id": "721b9b92",
      "execution_count": 34,
      "outputs": []
    },
    {
      "cell_type": "code",
      "metadata": {
        "colab": {
          "base_uri": "https://localhost:8080/",
          "height": 0
        },
        "id": "6d250a42",
        "outputId": "cbdd368d-627c-4b55-8104-cf6a402e0f16"
      },
      "source": [
        "olympics_merge['Host_Country']=olympics_merge['City'].map(country_dict)\n",
        "olympics_merge.head()"
      ],
      "id": "6d250a42",
      "execution_count": 35,
      "outputs": [
        {
          "output_type": "execute_result",
          "data": {
            "text/html": [
              "<div>\n",
              "<style scoped>\n",
              "    .dataframe tbody tr th:only-of-type {\n",
              "        vertical-align: middle;\n",
              "    }\n",
              "\n",
              "    .dataframe tbody tr th {\n",
              "        vertical-align: top;\n",
              "    }\n",
              "\n",
              "    .dataframe thead th {\n",
              "        text-align: right;\n",
              "    }\n",
              "</style>\n",
              "<table border=\"1\" class=\"dataframe\">\n",
              "  <thead>\n",
              "    <tr style=\"text-align: right;\">\n",
              "      <th></th>\n",
              "      <th>Name</th>\n",
              "      <th>Sex</th>\n",
              "      <th>Age</th>\n",
              "      <th>Height</th>\n",
              "      <th>Weight</th>\n",
              "      <th>NOC</th>\n",
              "      <th>Games</th>\n",
              "      <th>Year</th>\n",
              "      <th>Season</th>\n",
              "      <th>City</th>\n",
              "      <th>Sport</th>\n",
              "      <th>Event</th>\n",
              "      <th>Medal</th>\n",
              "      <th>Team</th>\n",
              "      <th>Host_Country</th>\n",
              "    </tr>\n",
              "  </thead>\n",
              "  <tbody>\n",
              "    <tr>\n",
              "      <th>0</th>\n",
              "      <td>A Dijiang</td>\n",
              "      <td>M</td>\n",
              "      <td>24.0</td>\n",
              "      <td>180.0</td>\n",
              "      <td>80.0</td>\n",
              "      <td>CHN</td>\n",
              "      <td>1992 Summer</td>\n",
              "      <td>1992</td>\n",
              "      <td>Summer</td>\n",
              "      <td>Barcelona</td>\n",
              "      <td>Basketball</td>\n",
              "      <td>Basketball Men's Basketball</td>\n",
              "      <td>non</td>\n",
              "      <td>China</td>\n",
              "      <td>Spain</td>\n",
              "    </tr>\n",
              "    <tr>\n",
              "      <th>1</th>\n",
              "      <td>A Lamusi</td>\n",
              "      <td>M</td>\n",
              "      <td>23.0</td>\n",
              "      <td>170.0</td>\n",
              "      <td>60.0</td>\n",
              "      <td>CHN</td>\n",
              "      <td>2012 Summer</td>\n",
              "      <td>2012</td>\n",
              "      <td>Summer</td>\n",
              "      <td>London</td>\n",
              "      <td>Judo</td>\n",
              "      <td>Judo Men's Extra-Lightweight</td>\n",
              "      <td>non</td>\n",
              "      <td>China</td>\n",
              "      <td>UK</td>\n",
              "    </tr>\n",
              "    <tr>\n",
              "      <th>2</th>\n",
              "      <td>Gunnar Nielsen Aaby</td>\n",
              "      <td>M</td>\n",
              "      <td>24.0</td>\n",
              "      <td>NaN</td>\n",
              "      <td>NaN</td>\n",
              "      <td>DEN</td>\n",
              "      <td>1920 Summer</td>\n",
              "      <td>1920</td>\n",
              "      <td>Summer</td>\n",
              "      <td>Antwerpen</td>\n",
              "      <td>Football</td>\n",
              "      <td>Football Men's Football</td>\n",
              "      <td>non</td>\n",
              "      <td>Denmark</td>\n",
              "      <td>Belgium</td>\n",
              "    </tr>\n",
              "    <tr>\n",
              "      <th>3</th>\n",
              "      <td>Edgar Lindenau Aabye</td>\n",
              "      <td>M</td>\n",
              "      <td>34.0</td>\n",
              "      <td>NaN</td>\n",
              "      <td>NaN</td>\n",
              "      <td>DEN</td>\n",
              "      <td>1900 Summer</td>\n",
              "      <td>1900</td>\n",
              "      <td>Summer</td>\n",
              "      <td>Paris</td>\n",
              "      <td>Tug-Of-War</td>\n",
              "      <td>Tug-Of-War Men's Tug-Of-War</td>\n",
              "      <td>Gold</td>\n",
              "      <td>Denmark</td>\n",
              "      <td>France</td>\n",
              "    </tr>\n",
              "    <tr>\n",
              "      <th>4</th>\n",
              "      <td>Christine Jacoba Aaftink</td>\n",
              "      <td>F</td>\n",
              "      <td>21.0</td>\n",
              "      <td>185.0</td>\n",
              "      <td>82.0</td>\n",
              "      <td>NED</td>\n",
              "      <td>1988 Winter</td>\n",
              "      <td>1988</td>\n",
              "      <td>Winter</td>\n",
              "      <td>Calgary</td>\n",
              "      <td>Speed Skating</td>\n",
              "      <td>Speed Skating Women's 500 metres</td>\n",
              "      <td>non</td>\n",
              "      <td>Netherlands</td>\n",
              "      <td>NaN</td>\n",
              "    </tr>\n",
              "  </tbody>\n",
              "</table>\n",
              "</div>"
            ],
            "text/plain": [
              "                       Name Sex   Age  ...  Medal         Team Host_Country\n",
              "0                 A Dijiang   M  24.0  ...    non        China        Spain\n",
              "1                  A Lamusi   M  23.0  ...    non        China           UK\n",
              "2       Gunnar Nielsen Aaby   M  24.0  ...    non      Denmark      Belgium\n",
              "3      Edgar Lindenau Aabye   M  34.0  ...   Gold      Denmark       France\n",
              "4  Christine Jacoba Aaftink   F  21.0  ...    non  Netherlands          NaN\n",
              "\n",
              "[5 rows x 15 columns]"
            ]
          },
          "metadata": {},
          "execution_count": 35
        }
      ]
    },
    {
      "cell_type": "code",
      "metadata": {
        "colab": {
          "base_uri": "https://localhost:8080/"
        },
        "id": "82beb622",
        "outputId": "fc979b38-e33d-41d3-d10e-38a55605548e"
      },
      "source": [
        "print(olympics_merge.isnull().sum())"
      ],
      "id": "82beb622",
      "execution_count": 36,
      "outputs": [
        {
          "output_type": "stream",
          "name": "stdout",
          "text": [
            "Name                0\n",
            "Sex                 0\n",
            "Age              9474\n",
            "Height          60171\n",
            "Weight          62875\n",
            "NOC                 0\n",
            "Games               0\n",
            "Year                0\n",
            "Season              0\n",
            "City                0\n",
            "Sport               0\n",
            "Event               0\n",
            "Medal               0\n",
            "Team                0\n",
            "Host_Country    48564\n",
            "dtype: int64\n"
          ]
        }
      ]
    },
    {
      "cell_type": "markdown",
      "metadata": {
        "id": "683njPYRc5vj"
      },
      "source": [
        "we missed some cities so wi add them one by one "
      ],
      "id": "683njPYRc5vj"
    },
    {
      "cell_type": "code",
      "metadata": {
        "colab": {
          "base_uri": "https://localhost:8080/",
          "height": 0
        },
        "id": "49b48e58",
        "outputId": "91b3fb4a-4c6f-44f8-d3e4-f438c6fa9b00"
      },
      "source": [
        "olympics_merge.loc[olympics_merge['Host_Country'].isnull(),['City']].drop_duplicates()"
      ],
      "id": "49b48e58",
      "execution_count": 37,
      "outputs": [
        {
          "output_type": "execute_result",
          "data": {
            "text/html": [
              "<div>\n",
              "<style scoped>\n",
              "    .dataframe tbody tr th:only-of-type {\n",
              "        vertical-align: middle;\n",
              "    }\n",
              "\n",
              "    .dataframe tbody tr th {\n",
              "        vertical-align: top;\n",
              "    }\n",
              "\n",
              "    .dataframe thead th {\n",
              "        text-align: right;\n",
              "    }\n",
              "</style>\n",
              "<table border=\"1\" class=\"dataframe\">\n",
              "  <thead>\n",
              "    <tr style=\"text-align: right;\">\n",
              "      <th></th>\n",
              "      <th>City</th>\n",
              "    </tr>\n",
              "  </thead>\n",
              "  <tbody>\n",
              "    <tr>\n",
              "      <th>4</th>\n",
              "      <td>Calgary</td>\n",
              "    </tr>\n",
              "    <tr>\n",
              "      <th>6</th>\n",
              "      <td>Albertville</td>\n",
              "    </tr>\n",
              "    <tr>\n",
              "      <th>8</th>\n",
              "      <td>Lillehammer</td>\n",
              "    </tr>\n",
              "    <tr>\n",
              "      <th>28</th>\n",
              "      <td>Salt Lake City</td>\n",
              "    </tr>\n",
              "    <tr>\n",
              "      <th>30</th>\n",
              "      <td>Lake Placid</td>\n",
              "    </tr>\n",
              "    <tr>\n",
              "      <th>40</th>\n",
              "      <td>Sochi</td>\n",
              "    </tr>\n",
              "    <tr>\n",
              "      <th>68</th>\n",
              "      <td>Nagano</td>\n",
              "    </tr>\n",
              "    <tr>\n",
              "      <th>77</th>\n",
              "      <td>Torino</td>\n",
              "    </tr>\n",
              "    <tr>\n",
              "      <th>83</th>\n",
              "      <td>Squaw Valley</td>\n",
              "    </tr>\n",
              "    <tr>\n",
              "      <th>85</th>\n",
              "      <td>Innsbruck</td>\n",
              "    </tr>\n",
              "    <tr>\n",
              "      <th>87</th>\n",
              "      <td>Sarajevo</td>\n",
              "    </tr>\n",
              "    <tr>\n",
              "      <th>110</th>\n",
              "      <td>Oslo</td>\n",
              "    </tr>\n",
              "    <tr>\n",
              "      <th>111</th>\n",
              "      <td>Cortina d'Ampezzo</td>\n",
              "    </tr>\n",
              "    <tr>\n",
              "      <th>245</th>\n",
              "      <td>Vancouver</td>\n",
              "    </tr>\n",
              "    <tr>\n",
              "      <th>266</th>\n",
              "      <td>Grenoble</td>\n",
              "    </tr>\n",
              "    <tr>\n",
              "      <th>626</th>\n",
              "      <td>Sapporo</td>\n",
              "    </tr>\n",
              "    <tr>\n",
              "      <th>672</th>\n",
              "      <td>Chamonix</td>\n",
              "    </tr>\n",
              "    <tr>\n",
              "      <th>935</th>\n",
              "      <td>Sankt Moritz</td>\n",
              "    </tr>\n",
              "    <tr>\n",
              "      <th>1327</th>\n",
              "      <td>Garmisch-Partenkirchen</td>\n",
              "    </tr>\n",
              "  </tbody>\n",
              "</table>\n",
              "</div>"
            ],
            "text/plain": [
              "                        City\n",
              "4                    Calgary\n",
              "6                Albertville\n",
              "8                Lillehammer\n",
              "28            Salt Lake City\n",
              "30               Lake Placid\n",
              "40                     Sochi\n",
              "68                    Nagano\n",
              "77                    Torino\n",
              "83              Squaw Valley\n",
              "85                 Innsbruck\n",
              "87                  Sarajevo\n",
              "110                     Oslo\n",
              "111        Cortina d'Ampezzo\n",
              "245                Vancouver\n",
              "266                 Grenoble\n",
              "626                  Sapporo\n",
              "672                 Chamonix\n",
              "935             Sankt Moritz\n",
              "1327  Garmisch-Partenkirchen"
            ]
          },
          "metadata": {},
          "execution_count": 37
        }
      ]
    },
    {
      "cell_type": "code",
      "metadata": {
        "id": "47e70444"
      },
      "source": [
        "country_dict = {'Athina':'Greece',\n",
        "                'Paris':'France',\n",
        "                'St. Louis':'USA',\n",
        "                'London':'UK',\n",
        "                'Stockholm':\"Sweden\",\n",
        "                'Antwerpen':'Belgium',\n",
        "                'Amsterdam':'Netherlands',\n",
        "                'Los Angeles':'USA',\n",
        "               'Berlin':'Germany',\n",
        "                'Helsinki':'Finland',\n",
        "                'Melbourne':'Australia',\n",
        "                'Roma':'Italy',\n",
        "                'Tokyo':'Japan',\n",
        "                'Mexico City':'Mexico',\n",
        "                'Munich':'Germany',\n",
        "                'Montreal':'Canada',\n",
        "                'Moskva':'Russia',\n",
        "                'Seoul':'South Korea',\n",
        "               'Barcelona':'Spain',\n",
        "               'Atlanta':'USA',\n",
        "               'Sydney':'Australia',\n",
        "               'Beijing':'China',\n",
        "               'Rio de Janeiro':'Brazil',\n",
        "               'Calgary':'Canada',\n",
        "               'Albertville':'France',\n",
        "               'Oslo':'Norway',\n",
        "               'Lillehammer':'Norway',\n",
        "               'Salt Lake City':'USA',\n",
        "               'Lake Placid':'USA',\n",
        "               'Sochi':'Russia',\n",
        "               'Nagano':'Japan',\n",
        "               'Torino':'Italy',\n",
        "               'Squaw Valley':'USA',\n",
        "               'Innsbruck':'Austria',\n",
        "               'Sarajevo':'Bosnia and Herzegovina',\n",
        "               \"Cortina d'Ampezzo\":'Italy',\n",
        "               'Vancouver':'Canada',\n",
        "               'Grenoble':'France',\n",
        "               'Sapporo':'Japan',\n",
        "               'Chamonix':'France',\n",
        "               'Sankt Moritz':'Switzerland',\n",
        "               'Garmisch-Partenkirchen':'Germany'}"
      ],
      "id": "47e70444",
      "execution_count": 38,
      "outputs": []
    },
    {
      "cell_type": "code",
      "metadata": {
        "colab": {
          "base_uri": "https://localhost:8080/",
          "height": 0
        },
        "id": "70b746ef",
        "outputId": "294da9ed-a9fa-4241-e713-fba7fcfbf3ca"
      },
      "source": [
        "olympics_merge['Host_Country']=olympics_merge['City'].map(country_dict)\n",
        "olympics_merge.head()"
      ],
      "id": "70b746ef",
      "execution_count": 39,
      "outputs": [
        {
          "output_type": "execute_result",
          "data": {
            "text/html": [
              "<div>\n",
              "<style scoped>\n",
              "    .dataframe tbody tr th:only-of-type {\n",
              "        vertical-align: middle;\n",
              "    }\n",
              "\n",
              "    .dataframe tbody tr th {\n",
              "        vertical-align: top;\n",
              "    }\n",
              "\n",
              "    .dataframe thead th {\n",
              "        text-align: right;\n",
              "    }\n",
              "</style>\n",
              "<table border=\"1\" class=\"dataframe\">\n",
              "  <thead>\n",
              "    <tr style=\"text-align: right;\">\n",
              "      <th></th>\n",
              "      <th>Name</th>\n",
              "      <th>Sex</th>\n",
              "      <th>Age</th>\n",
              "      <th>Height</th>\n",
              "      <th>Weight</th>\n",
              "      <th>NOC</th>\n",
              "      <th>Games</th>\n",
              "      <th>Year</th>\n",
              "      <th>Season</th>\n",
              "      <th>City</th>\n",
              "      <th>Sport</th>\n",
              "      <th>Event</th>\n",
              "      <th>Medal</th>\n",
              "      <th>Team</th>\n",
              "      <th>Host_Country</th>\n",
              "    </tr>\n",
              "  </thead>\n",
              "  <tbody>\n",
              "    <tr>\n",
              "      <th>0</th>\n",
              "      <td>A Dijiang</td>\n",
              "      <td>M</td>\n",
              "      <td>24.0</td>\n",
              "      <td>180.0</td>\n",
              "      <td>80.0</td>\n",
              "      <td>CHN</td>\n",
              "      <td>1992 Summer</td>\n",
              "      <td>1992</td>\n",
              "      <td>Summer</td>\n",
              "      <td>Barcelona</td>\n",
              "      <td>Basketball</td>\n",
              "      <td>Basketball Men's Basketball</td>\n",
              "      <td>non</td>\n",
              "      <td>China</td>\n",
              "      <td>Spain</td>\n",
              "    </tr>\n",
              "    <tr>\n",
              "      <th>1</th>\n",
              "      <td>A Lamusi</td>\n",
              "      <td>M</td>\n",
              "      <td>23.0</td>\n",
              "      <td>170.0</td>\n",
              "      <td>60.0</td>\n",
              "      <td>CHN</td>\n",
              "      <td>2012 Summer</td>\n",
              "      <td>2012</td>\n",
              "      <td>Summer</td>\n",
              "      <td>London</td>\n",
              "      <td>Judo</td>\n",
              "      <td>Judo Men's Extra-Lightweight</td>\n",
              "      <td>non</td>\n",
              "      <td>China</td>\n",
              "      <td>UK</td>\n",
              "    </tr>\n",
              "    <tr>\n",
              "      <th>2</th>\n",
              "      <td>Gunnar Nielsen Aaby</td>\n",
              "      <td>M</td>\n",
              "      <td>24.0</td>\n",
              "      <td>NaN</td>\n",
              "      <td>NaN</td>\n",
              "      <td>DEN</td>\n",
              "      <td>1920 Summer</td>\n",
              "      <td>1920</td>\n",
              "      <td>Summer</td>\n",
              "      <td>Antwerpen</td>\n",
              "      <td>Football</td>\n",
              "      <td>Football Men's Football</td>\n",
              "      <td>non</td>\n",
              "      <td>Denmark</td>\n",
              "      <td>Belgium</td>\n",
              "    </tr>\n",
              "    <tr>\n",
              "      <th>3</th>\n",
              "      <td>Edgar Lindenau Aabye</td>\n",
              "      <td>M</td>\n",
              "      <td>34.0</td>\n",
              "      <td>NaN</td>\n",
              "      <td>NaN</td>\n",
              "      <td>DEN</td>\n",
              "      <td>1900 Summer</td>\n",
              "      <td>1900</td>\n",
              "      <td>Summer</td>\n",
              "      <td>Paris</td>\n",
              "      <td>Tug-Of-War</td>\n",
              "      <td>Tug-Of-War Men's Tug-Of-War</td>\n",
              "      <td>Gold</td>\n",
              "      <td>Denmark</td>\n",
              "      <td>France</td>\n",
              "    </tr>\n",
              "    <tr>\n",
              "      <th>4</th>\n",
              "      <td>Christine Jacoba Aaftink</td>\n",
              "      <td>F</td>\n",
              "      <td>21.0</td>\n",
              "      <td>185.0</td>\n",
              "      <td>82.0</td>\n",
              "      <td>NED</td>\n",
              "      <td>1988 Winter</td>\n",
              "      <td>1988</td>\n",
              "      <td>Winter</td>\n",
              "      <td>Calgary</td>\n",
              "      <td>Speed Skating</td>\n",
              "      <td>Speed Skating Women's 500 metres</td>\n",
              "      <td>non</td>\n",
              "      <td>Netherlands</td>\n",
              "      <td>Canada</td>\n",
              "    </tr>\n",
              "  </tbody>\n",
              "</table>\n",
              "</div>"
            ],
            "text/plain": [
              "                       Name Sex   Age  ...  Medal         Team Host_Country\n",
              "0                 A Dijiang   M  24.0  ...    non        China        Spain\n",
              "1                  A Lamusi   M  23.0  ...    non        China           UK\n",
              "2       Gunnar Nielsen Aaby   M  24.0  ...    non      Denmark      Belgium\n",
              "3      Edgar Lindenau Aabye   M  34.0  ...   Gold      Denmark       France\n",
              "4  Christine Jacoba Aaftink   F  21.0  ...    non  Netherlands       Canada\n",
              "\n",
              "[5 rows x 15 columns]"
            ]
          },
          "metadata": {},
          "execution_count": 39
        }
      ]
    },
    {
      "cell_type": "code",
      "metadata": {
        "colab": {
          "base_uri": "https://localhost:8080/"
        },
        "id": "6ab2fbf3",
        "outputId": "b9e8e8a9-5dc7-4f97-c05b-dd783f12fa82"
      },
      "source": [
        "print(olympics_merge.isnull().sum())"
      ],
      "id": "6ab2fbf3",
      "execution_count": 40,
      "outputs": [
        {
          "output_type": "stream",
          "name": "stdout",
          "text": [
            "Name                0\n",
            "Sex                 0\n",
            "Age              9474\n",
            "Height          60171\n",
            "Weight          62875\n",
            "NOC                 0\n",
            "Games               0\n",
            "Year                0\n",
            "Season              0\n",
            "City                0\n",
            "Sport               0\n",
            "Event               0\n",
            "Medal               0\n",
            "Team                0\n",
            "Host_Country        0\n",
            "dtype: int64\n"
          ]
        }
      ]
    },
    {
      "cell_type": "markdown",
      "metadata": {
        "id": "3234cd68"
      },
      "source": [
        "Imputing the missing values of Age, Height and Weight with the respective means for males and females as it is not realistic for males and females to have the same mean for height and weight for example "
      ],
      "id": "3234cd68"
    },
    {
      "cell_type": "code",
      "metadata": {
        "colab": {
          "base_uri": "https://localhost:8080/"
        },
        "id": "c5c0f3d1",
        "outputId": "8960a7af-ff8a-4413-dec0-9ce074433122"
      },
      "source": [
        "olympics_merge.groupby([\"Sex\"])[\"Height\"].mean()"
      ],
      "id": "c5c0f3d1",
      "execution_count": 41,
      "outputs": [
        {
          "output_type": "execute_result",
          "data": {
            "text/plain": [
              "Sex\n",
              "F    167.839740\n",
              "M    178.858463\n",
              "Name: Height, dtype: float64"
            ]
          },
          "metadata": {},
          "execution_count": 41
        }
      ]
    },
    {
      "cell_type": "code",
      "metadata": {
        "id": "78f91106"
      },
      "source": [
        "olympics_merge['Height'] = olympics_merge['Height'].fillna(olympics_merge['Sex'].map({'M':178.858463, 'F': 167.839740}))"
      ],
      "id": "78f91106",
      "execution_count": 42,
      "outputs": []
    },
    {
      "cell_type": "code",
      "metadata": {
        "colab": {
          "base_uri": "https://localhost:8080/"
        },
        "id": "1260047c",
        "outputId": "35a0310e-8202-4fa0-9406-eb4db54432b0"
      },
      "source": [
        "print(olympics_merge.isnull().sum())"
      ],
      "id": "1260047c",
      "execution_count": 43,
      "outputs": [
        {
          "output_type": "stream",
          "name": "stdout",
          "text": [
            "Name                0\n",
            "Sex                 0\n",
            "Age              9474\n",
            "Height              0\n",
            "Weight          62875\n",
            "NOC                 0\n",
            "Games               0\n",
            "Year                0\n",
            "Season              0\n",
            "City                0\n",
            "Sport               0\n",
            "Event               0\n",
            "Medal               0\n",
            "Team                0\n",
            "Host_Country        0\n",
            "dtype: int64\n"
          ]
        }
      ]
    },
    {
      "cell_type": "code",
      "metadata": {
        "colab": {
          "base_uri": "https://localhost:8080/"
        },
        "id": "5d708d85",
        "outputId": "9aef6b68-722e-4186-f02a-94acecf41293"
      },
      "source": [
        "olympics_merge.groupby([\"Sex\"])[\"Age\"].mean()"
      ],
      "id": "5d708d85",
      "execution_count": 44,
      "outputs": [
        {
          "output_type": "execute_result",
          "data": {
            "text/plain": [
              "Sex\n",
              "F    23.732881\n",
              "M    26.277562\n",
              "Name: Age, dtype: float64"
            ]
          },
          "metadata": {},
          "execution_count": 44
        }
      ]
    },
    {
      "cell_type": "code",
      "metadata": {
        "id": "21b2ba70"
      },
      "source": [
        "olympics_merge['Age'] = olympics_merge['Age'].fillna(olympics_merge['Sex'].map({'M': 26.277562, 'F': 23.732881}))"
      ],
      "id": "21b2ba70",
      "execution_count": 45,
      "outputs": []
    },
    {
      "cell_type": "code",
      "metadata": {
        "colab": {
          "base_uri": "https://localhost:8080/"
        },
        "id": "778daf38",
        "outputId": "f5b11c47-3109-4661-def8-744132defd03"
      },
      "source": [
        "print(olympics_merge.isnull().sum())"
      ],
      "id": "778daf38",
      "execution_count": 46,
      "outputs": [
        {
          "output_type": "stream",
          "name": "stdout",
          "text": [
            "Name                0\n",
            "Sex                 0\n",
            "Age                 0\n",
            "Height              0\n",
            "Weight          62875\n",
            "NOC                 0\n",
            "Games               0\n",
            "Year                0\n",
            "Season              0\n",
            "City                0\n",
            "Sport               0\n",
            "Event               0\n",
            "Medal               0\n",
            "Team                0\n",
            "Host_Country        0\n",
            "dtype: int64\n"
          ]
        }
      ]
    },
    {
      "cell_type": "code",
      "metadata": {
        "colab": {
          "base_uri": "https://localhost:8080/"
        },
        "id": "f4a4267e",
        "outputId": "407afcd8-8221-450a-9d3c-08fb27ae2ef9"
      },
      "source": [
        "olympics_merge.groupby([\"Sex\"])[\"Weight\"].mean()"
      ],
      "id": "f4a4267e",
      "execution_count": 47,
      "outputs": [
        {
          "output_type": "execute_result",
          "data": {
            "text/plain": [
              "Sex\n",
              "F    60.021252\n",
              "M    75.743677\n",
              "Name: Weight, dtype: float64"
            ]
          },
          "metadata": {},
          "execution_count": 47
        }
      ]
    },
    {
      "cell_type": "code",
      "metadata": {
        "id": "eedbf28e"
      },
      "source": [
        "olympics_merge['Weight'] = olympics_merge['Weight'].fillna(olympics_merge['Sex'].map({'M': 75.743677, 'F': 60.021252}))"
      ],
      "id": "eedbf28e",
      "execution_count": 48,
      "outputs": []
    },
    {
      "cell_type": "code",
      "metadata": {
        "colab": {
          "base_uri": "https://localhost:8080/"
        },
        "id": "ca8611cc",
        "outputId": "89d84028-469f-4512-bf7e-cf5d69d12f1e"
      },
      "source": [
        "print(olympics_merge.isnull().sum())"
      ],
      "id": "ca8611cc",
      "execution_count": 49,
      "outputs": [
        {
          "output_type": "stream",
          "name": "stdout",
          "text": [
            "Name            0\n",
            "Sex             0\n",
            "Age             0\n",
            "Height          0\n",
            "Weight          0\n",
            "NOC             0\n",
            "Games           0\n",
            "Year            0\n",
            "Season          0\n",
            "City            0\n",
            "Sport           0\n",
            "Event           0\n",
            "Medal           0\n",
            "Team            0\n",
            "Host_Country    0\n",
            "dtype: int64\n"
          ]
        }
      ]
    },
    {
      "cell_type": "code",
      "metadata": {
        "colab": {
          "base_uri": "https://localhost:8080/",
          "height": 0
        },
        "id": "0dcacb14",
        "outputId": "fa07ab97-a710-4a48-8179-5e1f72bca6cd"
      },
      "source": [
        "olympics_merge.head(20)"
      ],
      "id": "0dcacb14",
      "execution_count": 50,
      "outputs": [
        {
          "output_type": "execute_result",
          "data": {
            "text/html": [
              "<div>\n",
              "<style scoped>\n",
              "    .dataframe tbody tr th:only-of-type {\n",
              "        vertical-align: middle;\n",
              "    }\n",
              "\n",
              "    .dataframe tbody tr th {\n",
              "        vertical-align: top;\n",
              "    }\n",
              "\n",
              "    .dataframe thead th {\n",
              "        text-align: right;\n",
              "    }\n",
              "</style>\n",
              "<table border=\"1\" class=\"dataframe\">\n",
              "  <thead>\n",
              "    <tr style=\"text-align: right;\">\n",
              "      <th></th>\n",
              "      <th>Name</th>\n",
              "      <th>Sex</th>\n",
              "      <th>Age</th>\n",
              "      <th>Height</th>\n",
              "      <th>Weight</th>\n",
              "      <th>NOC</th>\n",
              "      <th>Games</th>\n",
              "      <th>Year</th>\n",
              "      <th>Season</th>\n",
              "      <th>City</th>\n",
              "      <th>Sport</th>\n",
              "      <th>Event</th>\n",
              "      <th>Medal</th>\n",
              "      <th>Team</th>\n",
              "      <th>Host_Country</th>\n",
              "    </tr>\n",
              "  </thead>\n",
              "  <tbody>\n",
              "    <tr>\n",
              "      <th>0</th>\n",
              "      <td>A Dijiang</td>\n",
              "      <td>M</td>\n",
              "      <td>24.0</td>\n",
              "      <td>180.000000</td>\n",
              "      <td>80.000000</td>\n",
              "      <td>CHN</td>\n",
              "      <td>1992 Summer</td>\n",
              "      <td>1992</td>\n",
              "      <td>Summer</td>\n",
              "      <td>Barcelona</td>\n",
              "      <td>Basketball</td>\n",
              "      <td>Basketball Men's Basketball</td>\n",
              "      <td>non</td>\n",
              "      <td>China</td>\n",
              "      <td>Spain</td>\n",
              "    </tr>\n",
              "    <tr>\n",
              "      <th>1</th>\n",
              "      <td>A Lamusi</td>\n",
              "      <td>M</td>\n",
              "      <td>23.0</td>\n",
              "      <td>170.000000</td>\n",
              "      <td>60.000000</td>\n",
              "      <td>CHN</td>\n",
              "      <td>2012 Summer</td>\n",
              "      <td>2012</td>\n",
              "      <td>Summer</td>\n",
              "      <td>London</td>\n",
              "      <td>Judo</td>\n",
              "      <td>Judo Men's Extra-Lightweight</td>\n",
              "      <td>non</td>\n",
              "      <td>China</td>\n",
              "      <td>UK</td>\n",
              "    </tr>\n",
              "    <tr>\n",
              "      <th>2</th>\n",
              "      <td>Gunnar Nielsen Aaby</td>\n",
              "      <td>M</td>\n",
              "      <td>24.0</td>\n",
              "      <td>178.858463</td>\n",
              "      <td>75.743677</td>\n",
              "      <td>DEN</td>\n",
              "      <td>1920 Summer</td>\n",
              "      <td>1920</td>\n",
              "      <td>Summer</td>\n",
              "      <td>Antwerpen</td>\n",
              "      <td>Football</td>\n",
              "      <td>Football Men's Football</td>\n",
              "      <td>non</td>\n",
              "      <td>Denmark</td>\n",
              "      <td>Belgium</td>\n",
              "    </tr>\n",
              "    <tr>\n",
              "      <th>3</th>\n",
              "      <td>Edgar Lindenau Aabye</td>\n",
              "      <td>M</td>\n",
              "      <td>34.0</td>\n",
              "      <td>178.858463</td>\n",
              "      <td>75.743677</td>\n",
              "      <td>DEN</td>\n",
              "      <td>1900 Summer</td>\n",
              "      <td>1900</td>\n",
              "      <td>Summer</td>\n",
              "      <td>Paris</td>\n",
              "      <td>Tug-Of-War</td>\n",
              "      <td>Tug-Of-War Men's Tug-Of-War</td>\n",
              "      <td>Gold</td>\n",
              "      <td>Denmark</td>\n",
              "      <td>France</td>\n",
              "    </tr>\n",
              "    <tr>\n",
              "      <th>4</th>\n",
              "      <td>Christine Jacoba Aaftink</td>\n",
              "      <td>F</td>\n",
              "      <td>21.0</td>\n",
              "      <td>185.000000</td>\n",
              "      <td>82.000000</td>\n",
              "      <td>NED</td>\n",
              "      <td>1988 Winter</td>\n",
              "      <td>1988</td>\n",
              "      <td>Winter</td>\n",
              "      <td>Calgary</td>\n",
              "      <td>Speed Skating</td>\n",
              "      <td>Speed Skating Women's 500 metres</td>\n",
              "      <td>non</td>\n",
              "      <td>Netherlands</td>\n",
              "      <td>Canada</td>\n",
              "    </tr>\n",
              "    <tr>\n",
              "      <th>5</th>\n",
              "      <td>Christine Jacoba Aaftink</td>\n",
              "      <td>F</td>\n",
              "      <td>21.0</td>\n",
              "      <td>185.000000</td>\n",
              "      <td>82.000000</td>\n",
              "      <td>NED</td>\n",
              "      <td>1988 Winter</td>\n",
              "      <td>1988</td>\n",
              "      <td>Winter</td>\n",
              "      <td>Calgary</td>\n",
              "      <td>Speed Skating</td>\n",
              "      <td>Speed Skating Women's 1,000 metres</td>\n",
              "      <td>non</td>\n",
              "      <td>Netherlands</td>\n",
              "      <td>Canada</td>\n",
              "    </tr>\n",
              "    <tr>\n",
              "      <th>6</th>\n",
              "      <td>Christine Jacoba Aaftink</td>\n",
              "      <td>F</td>\n",
              "      <td>25.0</td>\n",
              "      <td>185.000000</td>\n",
              "      <td>82.000000</td>\n",
              "      <td>NED</td>\n",
              "      <td>1992 Winter</td>\n",
              "      <td>1992</td>\n",
              "      <td>Winter</td>\n",
              "      <td>Albertville</td>\n",
              "      <td>Speed Skating</td>\n",
              "      <td>Speed Skating Women's 500 metres</td>\n",
              "      <td>non</td>\n",
              "      <td>Netherlands</td>\n",
              "      <td>France</td>\n",
              "    </tr>\n",
              "    <tr>\n",
              "      <th>7</th>\n",
              "      <td>Christine Jacoba Aaftink</td>\n",
              "      <td>F</td>\n",
              "      <td>25.0</td>\n",
              "      <td>185.000000</td>\n",
              "      <td>82.000000</td>\n",
              "      <td>NED</td>\n",
              "      <td>1992 Winter</td>\n",
              "      <td>1992</td>\n",
              "      <td>Winter</td>\n",
              "      <td>Albertville</td>\n",
              "      <td>Speed Skating</td>\n",
              "      <td>Speed Skating Women's 1,000 metres</td>\n",
              "      <td>non</td>\n",
              "      <td>Netherlands</td>\n",
              "      <td>France</td>\n",
              "    </tr>\n",
              "    <tr>\n",
              "      <th>8</th>\n",
              "      <td>Christine Jacoba Aaftink</td>\n",
              "      <td>F</td>\n",
              "      <td>27.0</td>\n",
              "      <td>185.000000</td>\n",
              "      <td>82.000000</td>\n",
              "      <td>NED</td>\n",
              "      <td>1994 Winter</td>\n",
              "      <td>1994</td>\n",
              "      <td>Winter</td>\n",
              "      <td>Lillehammer</td>\n",
              "      <td>Speed Skating</td>\n",
              "      <td>Speed Skating Women's 500 metres</td>\n",
              "      <td>non</td>\n",
              "      <td>Netherlands</td>\n",
              "      <td>Norway</td>\n",
              "    </tr>\n",
              "    <tr>\n",
              "      <th>9</th>\n",
              "      <td>Christine Jacoba Aaftink</td>\n",
              "      <td>F</td>\n",
              "      <td>27.0</td>\n",
              "      <td>185.000000</td>\n",
              "      <td>82.000000</td>\n",
              "      <td>NED</td>\n",
              "      <td>1994 Winter</td>\n",
              "      <td>1994</td>\n",
              "      <td>Winter</td>\n",
              "      <td>Lillehammer</td>\n",
              "      <td>Speed Skating</td>\n",
              "      <td>Speed Skating Women's 1,000 metres</td>\n",
              "      <td>non</td>\n",
              "      <td>Netherlands</td>\n",
              "      <td>Norway</td>\n",
              "    </tr>\n",
              "    <tr>\n",
              "      <th>10</th>\n",
              "      <td>Per Knut Aaland</td>\n",
              "      <td>M</td>\n",
              "      <td>31.0</td>\n",
              "      <td>188.000000</td>\n",
              "      <td>75.000000</td>\n",
              "      <td>USA</td>\n",
              "      <td>1992 Winter</td>\n",
              "      <td>1992</td>\n",
              "      <td>Winter</td>\n",
              "      <td>Albertville</td>\n",
              "      <td>Cross Country Skiing</td>\n",
              "      <td>Cross Country Skiing Men's 10 kilometres</td>\n",
              "      <td>non</td>\n",
              "      <td>USA</td>\n",
              "      <td>France</td>\n",
              "    </tr>\n",
              "    <tr>\n",
              "      <th>11</th>\n",
              "      <td>Per Knut Aaland</td>\n",
              "      <td>M</td>\n",
              "      <td>31.0</td>\n",
              "      <td>188.000000</td>\n",
              "      <td>75.000000</td>\n",
              "      <td>USA</td>\n",
              "      <td>1992 Winter</td>\n",
              "      <td>1992</td>\n",
              "      <td>Winter</td>\n",
              "      <td>Albertville</td>\n",
              "      <td>Cross Country Skiing</td>\n",
              "      <td>Cross Country Skiing Men's 50 kilometres</td>\n",
              "      <td>non</td>\n",
              "      <td>USA</td>\n",
              "      <td>France</td>\n",
              "    </tr>\n",
              "    <tr>\n",
              "      <th>12</th>\n",
              "      <td>Per Knut Aaland</td>\n",
              "      <td>M</td>\n",
              "      <td>31.0</td>\n",
              "      <td>188.000000</td>\n",
              "      <td>75.000000</td>\n",
              "      <td>USA</td>\n",
              "      <td>1992 Winter</td>\n",
              "      <td>1992</td>\n",
              "      <td>Winter</td>\n",
              "      <td>Albertville</td>\n",
              "      <td>Cross Country Skiing</td>\n",
              "      <td>Cross Country Skiing Men's 10/15 kilometres Pu...</td>\n",
              "      <td>non</td>\n",
              "      <td>USA</td>\n",
              "      <td>France</td>\n",
              "    </tr>\n",
              "    <tr>\n",
              "      <th>13</th>\n",
              "      <td>Per Knut Aaland</td>\n",
              "      <td>M</td>\n",
              "      <td>31.0</td>\n",
              "      <td>188.000000</td>\n",
              "      <td>75.000000</td>\n",
              "      <td>USA</td>\n",
              "      <td>1992 Winter</td>\n",
              "      <td>1992</td>\n",
              "      <td>Winter</td>\n",
              "      <td>Albertville</td>\n",
              "      <td>Cross Country Skiing</td>\n",
              "      <td>Cross Country Skiing Men's 4 x 10 kilometres R...</td>\n",
              "      <td>non</td>\n",
              "      <td>USA</td>\n",
              "      <td>France</td>\n",
              "    </tr>\n",
              "    <tr>\n",
              "      <th>14</th>\n",
              "      <td>Per Knut Aaland</td>\n",
              "      <td>M</td>\n",
              "      <td>33.0</td>\n",
              "      <td>188.000000</td>\n",
              "      <td>75.000000</td>\n",
              "      <td>USA</td>\n",
              "      <td>1994 Winter</td>\n",
              "      <td>1994</td>\n",
              "      <td>Winter</td>\n",
              "      <td>Lillehammer</td>\n",
              "      <td>Cross Country Skiing</td>\n",
              "      <td>Cross Country Skiing Men's 10 kilometres</td>\n",
              "      <td>non</td>\n",
              "      <td>USA</td>\n",
              "      <td>Norway</td>\n",
              "    </tr>\n",
              "    <tr>\n",
              "      <th>15</th>\n",
              "      <td>Per Knut Aaland</td>\n",
              "      <td>M</td>\n",
              "      <td>33.0</td>\n",
              "      <td>188.000000</td>\n",
              "      <td>75.000000</td>\n",
              "      <td>USA</td>\n",
              "      <td>1994 Winter</td>\n",
              "      <td>1994</td>\n",
              "      <td>Winter</td>\n",
              "      <td>Lillehammer</td>\n",
              "      <td>Cross Country Skiing</td>\n",
              "      <td>Cross Country Skiing Men's 30 kilometres</td>\n",
              "      <td>non</td>\n",
              "      <td>USA</td>\n",
              "      <td>Norway</td>\n",
              "    </tr>\n",
              "    <tr>\n",
              "      <th>16</th>\n",
              "      <td>Per Knut Aaland</td>\n",
              "      <td>M</td>\n",
              "      <td>33.0</td>\n",
              "      <td>188.000000</td>\n",
              "      <td>75.000000</td>\n",
              "      <td>USA</td>\n",
              "      <td>1994 Winter</td>\n",
              "      <td>1994</td>\n",
              "      <td>Winter</td>\n",
              "      <td>Lillehammer</td>\n",
              "      <td>Cross Country Skiing</td>\n",
              "      <td>Cross Country Skiing Men's 10/15 kilometres Pu...</td>\n",
              "      <td>non</td>\n",
              "      <td>USA</td>\n",
              "      <td>Norway</td>\n",
              "    </tr>\n",
              "    <tr>\n",
              "      <th>17</th>\n",
              "      <td>Per Knut Aaland</td>\n",
              "      <td>M</td>\n",
              "      <td>33.0</td>\n",
              "      <td>188.000000</td>\n",
              "      <td>75.000000</td>\n",
              "      <td>USA</td>\n",
              "      <td>1994 Winter</td>\n",
              "      <td>1994</td>\n",
              "      <td>Winter</td>\n",
              "      <td>Lillehammer</td>\n",
              "      <td>Cross Country Skiing</td>\n",
              "      <td>Cross Country Skiing Men's 4 x 10 kilometres R...</td>\n",
              "      <td>non</td>\n",
              "      <td>USA</td>\n",
              "      <td>Norway</td>\n",
              "    </tr>\n",
              "    <tr>\n",
              "      <th>18</th>\n",
              "      <td>John Aalberg</td>\n",
              "      <td>M</td>\n",
              "      <td>31.0</td>\n",
              "      <td>183.000000</td>\n",
              "      <td>72.000000</td>\n",
              "      <td>USA</td>\n",
              "      <td>1992 Winter</td>\n",
              "      <td>1992</td>\n",
              "      <td>Winter</td>\n",
              "      <td>Albertville</td>\n",
              "      <td>Cross Country Skiing</td>\n",
              "      <td>Cross Country Skiing Men's 10 kilometres</td>\n",
              "      <td>non</td>\n",
              "      <td>USA</td>\n",
              "      <td>France</td>\n",
              "    </tr>\n",
              "    <tr>\n",
              "      <th>19</th>\n",
              "      <td>John Aalberg</td>\n",
              "      <td>M</td>\n",
              "      <td>31.0</td>\n",
              "      <td>183.000000</td>\n",
              "      <td>72.000000</td>\n",
              "      <td>USA</td>\n",
              "      <td>1992 Winter</td>\n",
              "      <td>1992</td>\n",
              "      <td>Winter</td>\n",
              "      <td>Albertville</td>\n",
              "      <td>Cross Country Skiing</td>\n",
              "      <td>Cross Country Skiing Men's 50 kilometres</td>\n",
              "      <td>non</td>\n",
              "      <td>USA</td>\n",
              "      <td>France</td>\n",
              "    </tr>\n",
              "  </tbody>\n",
              "</table>\n",
              "</div>"
            ],
            "text/plain": [
              "                        Name Sex   Age  ...  Medal         Team Host_Country\n",
              "0                  A Dijiang   M  24.0  ...    non        China        Spain\n",
              "1                   A Lamusi   M  23.0  ...    non        China           UK\n",
              "2        Gunnar Nielsen Aaby   M  24.0  ...    non      Denmark      Belgium\n",
              "3       Edgar Lindenau Aabye   M  34.0  ...   Gold      Denmark       France\n",
              "4   Christine Jacoba Aaftink   F  21.0  ...    non  Netherlands       Canada\n",
              "5   Christine Jacoba Aaftink   F  21.0  ...    non  Netherlands       Canada\n",
              "6   Christine Jacoba Aaftink   F  25.0  ...    non  Netherlands       France\n",
              "7   Christine Jacoba Aaftink   F  25.0  ...    non  Netherlands       France\n",
              "8   Christine Jacoba Aaftink   F  27.0  ...    non  Netherlands       Norway\n",
              "9   Christine Jacoba Aaftink   F  27.0  ...    non  Netherlands       Norway\n",
              "10           Per Knut Aaland   M  31.0  ...    non          USA       France\n",
              "11           Per Knut Aaland   M  31.0  ...    non          USA       France\n",
              "12           Per Knut Aaland   M  31.0  ...    non          USA       France\n",
              "13           Per Knut Aaland   M  31.0  ...    non          USA       France\n",
              "14           Per Knut Aaland   M  33.0  ...    non          USA       Norway\n",
              "15           Per Knut Aaland   M  33.0  ...    non          USA       Norway\n",
              "16           Per Knut Aaland   M  33.0  ...    non          USA       Norway\n",
              "17           Per Knut Aaland   M  33.0  ...    non          USA       Norway\n",
              "18              John Aalberg   M  31.0  ...    non          USA       France\n",
              "19              John Aalberg   M  31.0  ...    non          USA       France\n",
              "\n",
              "[20 rows x 15 columns]"
            ]
          },
          "metadata": {},
          "execution_count": 50
        }
      ]
    },
    {
      "cell_type": "markdown",
      "metadata": {
        "id": "rCj4eqgBnOb_"
      },
      "source": [
        "### Handling outliers\n",
        "\n"
      ],
      "id": "rCj4eqgBnOb_"
    },
    {
      "cell_type": "markdown",
      "metadata": {
        "id": "RJ88biAkYNxG"
      },
      "source": [
        "####Height & Weight"
      ],
      "id": "RJ88biAkYNxG"
    },
    {
      "cell_type": "markdown",
      "metadata": {
        "id": "7Kmutpmbd4lT"
      },
      "source": [
        "Now that our data is clean and have no missing values we next have to handle the outliers"
      ],
      "id": "7Kmutpmbd4lT"
    },
    {
      "cell_type": "markdown",
      "metadata": {
        "id": "I9MpfwjqGzcV"
      },
      "source": [
        "So when we think that we cant just drop the outliers from the height and the weight directly\n",
        "we think we should treat this case as a multivariate outlier and consider only the unrealistic weight values with respect to their height"
      ],
      "id": "I9MpfwjqGzcV"
    },
    {
      "cell_type": "code",
      "metadata": {
        "colab": {
          "base_uri": "https://localhost:8080/",
          "height": 0
        },
        "id": "4f6c8dba",
        "outputId": "203cd9a8-5b1c-4582-fce6-6c0d59309e49"
      },
      "source": [
        "plt.figure(figsize=(12,12))\n",
        "sns.regplot(olympics_merge['Height'],olympics_merge['Weight'])"
      ],
      "id": "4f6c8dba",
      "execution_count": 51,
      "outputs": [
        {
          "output_type": "stream",
          "name": "stderr",
          "text": [
            "/usr/local/lib/python3.7/dist-packages/seaborn/_decorators.py:43: FutureWarning: Pass the following variables as keyword args: x, y. From version 0.12, the only valid positional argument will be `data`, and passing other arguments without an explicit keyword will result in an error or misinterpretation.\n",
            "  FutureWarning\n"
          ]
        },
        {
          "output_type": "execute_result",
          "data": {
            "text/plain": [
              "<matplotlib.axes._subplots.AxesSubplot at 0x7fadea178090>"
            ]
          },
          "metadata": {},
          "execution_count": 51
        },
        {
          "output_type": "display_data",
          "data": {
            "image/png": "[encoded data removed]",
            "text/plain": [
              "<Figure size 864x864 with 1 Axes>"
            ]
          },
          "metadata": {}
        }
      ]
    },
    {
      "cell_type": "code",
      "metadata": {
        "id": "2c3cd5d0"
      },
      "source": [
        "clf = LocalOutlierFactor()"
      ],
      "id": "2c3cd5d0",
      "execution_count": 52,
      "outputs": []
    },
    {
      "cell_type": "code",
      "metadata": {
        "id": "ed00286c"
      },
      "source": [
        "X = olympics_merge[['Height','Weight']].values\n",
        "y_pred = clf.fit_predict(X)"
      ],
      "id": "ed00286c",
      "execution_count": 53,
      "outputs": []
    },
    {
      "cell_type": "markdown",
      "metadata": {
        "id": "vBIKP9L4jG_A"
      },
      "source": [
        "Now we plot the height and weight after predicting the outliers usin Local outlier factor and the red dots presents the outliers detected "
      ],
      "id": "vBIKP9L4jG_A"
    },
    {
      "cell_type": "code",
      "metadata": {
        "colab": {
          "base_uri": "https://localhost:8080/",
          "height": 0
        },
        "id": "05f6db47",
        "outputId": "05b946b1-de7e-4478-bd83-4f71afd2ff35"
      },
      "source": [
        "plt.figure(figsize=(12,12))\n",
        "# plot the level sets of the decision function\n",
        "\n",
        "in_mask = [True if l == 1 else False for l in y_pred]\n",
        "out_mask = [True if l == -1 else False for l in y_pred]\n",
        "\n",
        "plt.title(\"Local Outlier Factor (LOF)\")\n",
        "# inliers\n",
        "a = plt.scatter(X[in_mask, 0], X[in_mask, 1], c = 'blue',\n",
        "                edgecolor = 'k', s = 30)\n",
        "# outliers\n",
        "b = plt.scatter(X[out_mask, 0], X[out_mask, 1], c = 'red',\n",
        "                edgecolor = 'k', s = 30)\n",
        "plt.axis('tight')\n",
        "plt.xlabel('Height');\n",
        "plt.ylabel('Weight');\n",
        "plt.show()"
      ],
      "id": "05f6db47",
      "execution_count": 54,
      "outputs": [
        {
          "output_type": "display_data",
          "data": {
            "image/png": "[encoded data removed]",
            "text/plain": [
              "<Figure size 864x864 with 1 Axes>"
            ]
          },
          "metadata": {}
        }
      ]
    },
    {
      "cell_type": "markdown",
      "metadata": {
        "id": "gnE19VqxjsB6"
      },
      "source": [
        "As we see the LOF was able to detect real outliers even within the normal range which would not possible to detect if we  treated the height and weight seperatly "
      ],
      "id": "gnE19VqxjsB6"
    },
    {
      "cell_type": "code",
      "metadata": {
        "colab": {
          "base_uri": "https://localhost:8080/"
        },
        "id": "ff00fc04",
        "outputId": "44fb5bb8-1c1a-4b30-88e7-1e656710504c"
      },
      "source": [
        "len(y_pred)"
      ],
      "id": "ff00fc04",
      "execution_count": 55,
      "outputs": [
        {
          "output_type": "execute_result",
          "data": {
            "text/plain": [
              "271116"
            ]
          },
          "metadata": {},
          "execution_count": 55
        }
      ]
    },
    {
      "cell_type": "code",
      "metadata": {
        "colab": {
          "base_uri": "https://localhost:8080/"
        },
        "id": "68b3fd89",
        "outputId": "fd355e0b-b28e-4b58-c164-b4c4c42f594e"
      },
      "source": [
        "len(X[in_mask])"
      ],
      "id": "68b3fd89",
      "execution_count": 56,
      "outputs": [
        {
          "output_type": "execute_result",
          "data": {
            "text/plain": [
              "265534"
            ]
          },
          "metadata": {},
          "execution_count": 56
        }
      ]
    },
    {
      "cell_type": "code",
      "metadata": {
        "colab": {
          "base_uri": "https://localhost:8080/"
        },
        "id": "3c91d0b1",
        "outputId": "f004f9a2-9900-4253-d67e-045d9759e853"
      },
      "source": [
        "len(X[out_mask])"
      ],
      "id": "3c91d0b1",
      "execution_count": 57,
      "outputs": [
        {
          "output_type": "execute_result",
          "data": {
            "text/plain": [
              "5582"
            ]
          },
          "metadata": {},
          "execution_count": 57
        }
      ]
    },
    {
      "cell_type": "code",
      "metadata": {
        "id": "f4a75a4e"
      },
      "source": [
        "olympics_merge['outlier']= y_pred"
      ],
      "id": "f4a75a4e",
      "execution_count": 58,
      "outputs": []
    },
    {
      "cell_type": "code",
      "metadata": {
        "colab": {
          "base_uri": "https://localhost:8080/",
          "height": 0
        },
        "id": "63199af7",
        "outputId": "230f3e03-1ee7-4fd5-82ef-27d805cc3d34"
      },
      "source": [
        "olympics_merge.head(10)"
      ],
      "id": "63199af7",
      "execution_count": 59,
      "outputs": [
        {
          "output_type": "execute_result",
          "data": {
            "text/html": [
              "<div>\n",
              "<style scoped>\n",
              "    .dataframe tbody tr th:only-of-type {\n",
              "        vertical-align: middle;\n",
              "    }\n",
              "\n",
              "    .dataframe tbody tr th {\n",
              "        vertical-align: top;\n",
              "    }\n",
              "\n",
              "    .dataframe thead th {\n",
              "        text-align: right;\n",
              "    }\n",
              "</style>\n",
              "<table border=\"1\" class=\"dataframe\">\n",
              "  <thead>\n",
              "    <tr style=\"text-align: right;\">\n",
              "      <th></th>\n",
              "      <th>Name</th>\n",
              "      <th>Sex</th>\n",
              "      <th>Age</th>\n",
              "      <th>Height</th>\n",
              "      <th>Weight</th>\n",
              "      <th>NOC</th>\n",
              "      <th>Games</th>\n",
              "      <th>Year</th>\n",
              "      <th>Season</th>\n",
              "      <th>City</th>\n",
              "      <th>Sport</th>\n",
              "      <th>Event</th>\n",
              "      <th>Medal</th>\n",
              "      <th>Team</th>\n",
              "      <th>Host_Country</th>\n",
              "      <th>outlier</th>\n",
              "    </tr>\n",
              "  </thead>\n",
              "  <tbody>\n",
              "    <tr>\n",
              "      <th>0</th>\n",
              "      <td>A Dijiang</td>\n",
              "      <td>M</td>\n",
              "      <td>24.0</td>\n",
              "      <td>180.000000</td>\n",
              "      <td>80.000000</td>\n",
              "      <td>CHN</td>\n",
              "      <td>1992 Summer</td>\n",
              "      <td>1992</td>\n",
              "      <td>Summer</td>\n",
              "      <td>Barcelona</td>\n",
              "      <td>Basketball</td>\n",
              "      <td>Basketball Men's Basketball</td>\n",
              "      <td>non</td>\n",
              "      <td>China</td>\n",
              "      <td>Spain</td>\n",
              "      <td>1</td>\n",
              "    </tr>\n",
              "    <tr>\n",
              "      <th>1</th>\n",
              "      <td>A Lamusi</td>\n",
              "      <td>M</td>\n",
              "      <td>23.0</td>\n",
              "      <td>170.000000</td>\n",
              "      <td>60.000000</td>\n",
              "      <td>CHN</td>\n",
              "      <td>2012 Summer</td>\n",
              "      <td>2012</td>\n",
              "      <td>Summer</td>\n",
              "      <td>London</td>\n",
              "      <td>Judo</td>\n",
              "      <td>Judo Men's Extra-Lightweight</td>\n",
              "      <td>non</td>\n",
              "      <td>China</td>\n",
              "      <td>UK</td>\n",
              "      <td>1</td>\n",
              "    </tr>\n",
              "    <tr>\n",
              "      <th>2</th>\n",
              "      <td>Gunnar Nielsen Aaby</td>\n",
              "      <td>M</td>\n",
              "      <td>24.0</td>\n",
              "      <td>178.858463</td>\n",
              "      <td>75.743677</td>\n",
              "      <td>DEN</td>\n",
              "      <td>1920 Summer</td>\n",
              "      <td>1920</td>\n",
              "      <td>Summer</td>\n",
              "      <td>Antwerpen</td>\n",
              "      <td>Football</td>\n",
              "      <td>Football Men's Football</td>\n",
              "      <td>non</td>\n",
              "      <td>Denmark</td>\n",
              "      <td>Belgium</td>\n",
              "      <td>1</td>\n",
              "    </tr>\n",
              "    <tr>\n",
              "      <th>3</th>\n",
              "      <td>Edgar Lindenau Aabye</td>\n",
              "      <td>M</td>\n",
              "      <td>34.0</td>\n",
              "      <td>178.858463</td>\n",
              "      <td>75.743677</td>\n",
              "      <td>DEN</td>\n",
              "      <td>1900 Summer</td>\n",
              "      <td>1900</td>\n",
              "      <td>Summer</td>\n",
              "      <td>Paris</td>\n",
              "      <td>Tug-Of-War</td>\n",
              "      <td>Tug-Of-War Men's Tug-Of-War</td>\n",
              "      <td>Gold</td>\n",
              "      <td>Denmark</td>\n",
              "      <td>France</td>\n",
              "      <td>1</td>\n",
              "    </tr>\n",
              "    <tr>\n",
              "      <th>4</th>\n",
              "      <td>Christine Jacoba Aaftink</td>\n",
              "      <td>F</td>\n",
              "      <td>21.0</td>\n",
              "      <td>185.000000</td>\n",
              "      <td>82.000000</td>\n",
              "      <td>NED</td>\n",
              "      <td>1988 Winter</td>\n",
              "      <td>1988</td>\n",
              "      <td>Winter</td>\n",
              "      <td>Calgary</td>\n",
              "      <td>Speed Skating</td>\n",
              "      <td>Speed Skating Women's 500 metres</td>\n",
              "      <td>non</td>\n",
              "      <td>Netherlands</td>\n",
              "      <td>Canada</td>\n",
              "      <td>1</td>\n",
              "    </tr>\n",
              "    <tr>\n",
              "      <th>5</th>\n",
              "      <td>Christine Jacoba Aaftink</td>\n",
              "      <td>F</td>\n",
              "      <td>21.0</td>\n",
              "      <td>185.000000</td>\n",
              "      <td>82.000000</td>\n",
              "      <td>NED</td>\n",
              "      <td>1988 Winter</td>\n",
              "      <td>1988</td>\n",
              "      <td>Winter</td>\n",
              "      <td>Calgary</td>\n",
              "      <td>Speed Skating</td>\n",
              "      <td>Speed Skating Women's 1,000 metres</td>\n",
              "      <td>non</td>\n",
              "      <td>Netherlands</td>\n",
              "      <td>Canada</td>\n",
              "      <td>1</td>\n",
              "    </tr>\n",
              "    <tr>\n",
              "      <th>6</th>\n",
              "      <td>Christine Jacoba Aaftink</td>\n",
              "      <td>F</td>\n",
              "      <td>25.0</td>\n",
              "      <td>185.000000</td>\n",
              "      <td>82.000000</td>\n",
              "      <td>NED</td>\n",
              "      <td>1992 Winter</td>\n",
              "      <td>1992</td>\n",
              "      <td>Winter</td>\n",
              "      <td>Albertville</td>\n",
              "      <td>Speed Skating</td>\n",
              "      <td>Speed Skating Women's 500 metres</td>\n",
              "      <td>non</td>\n",
              "      <td>Netherlands</td>\n",
              "      <td>France</td>\n",
              "      <td>1</td>\n",
              "    </tr>\n",
              "    <tr>\n",
              "      <th>7</th>\n",
              "      <td>Christine Jacoba Aaftink</td>\n",
              "      <td>F</td>\n",
              "      <td>25.0</td>\n",
              "      <td>185.000000</td>\n",
              "      <td>82.000000</td>\n",
              "      <td>NED</td>\n",
              "      <td>1992 Winter</td>\n",
              "      <td>1992</td>\n",
              "      <td>Winter</td>\n",
              "      <td>Albertville</td>\n",
              "      <td>Speed Skating</td>\n",
              "      <td>Speed Skating Women's 1,000 metres</td>\n",
              "      <td>non</td>\n",
              "      <td>Netherlands</td>\n",
              "      <td>France</td>\n",
              "      <td>1</td>\n",
              "    </tr>\n",
              "    <tr>\n",
              "      <th>8</th>\n",
              "      <td>Christine Jacoba Aaftink</td>\n",
              "      <td>F</td>\n",
              "      <td>27.0</td>\n",
              "      <td>185.000000</td>\n",
              "      <td>82.000000</td>\n",
              "      <td>NED</td>\n",
              "      <td>1994 Winter</td>\n",
              "      <td>1994</td>\n",
              "      <td>Winter</td>\n",
              "      <td>Lillehammer</td>\n",
              "      <td>Speed Skating</td>\n",
              "      <td>Speed Skating Women's 500 metres</td>\n",
              "      <td>non</td>\n",
              "      <td>Netherlands</td>\n",
              "      <td>Norway</td>\n",
              "      <td>1</td>\n",
              "    </tr>\n",
              "    <tr>\n",
              "      <th>9</th>\n",
              "      <td>Christine Jacoba Aaftink</td>\n",
              "      <td>F</td>\n",
              "      <td>27.0</td>\n",
              "      <td>185.000000</td>\n",
              "      <td>82.000000</td>\n",
              "      <td>NED</td>\n",
              "      <td>1994 Winter</td>\n",
              "      <td>1994</td>\n",
              "      <td>Winter</td>\n",
              "      <td>Lillehammer</td>\n",
              "      <td>Speed Skating</td>\n",
              "      <td>Speed Skating Women's 1,000 metres</td>\n",
              "      <td>non</td>\n",
              "      <td>Netherlands</td>\n",
              "      <td>Norway</td>\n",
              "      <td>1</td>\n",
              "    </tr>\n",
              "  </tbody>\n",
              "</table>\n",
              "</div>"
            ],
            "text/plain": [
              "                       Name Sex   Age  ...         Team  Host_Country outlier\n",
              "0                 A Dijiang   M  24.0  ...        China         Spain       1\n",
              "1                  A Lamusi   M  23.0  ...        China            UK       1\n",
              "2       Gunnar Nielsen Aaby   M  24.0  ...      Denmark       Belgium       1\n",
              "3      Edgar Lindenau Aabye   M  34.0  ...      Denmark        France       1\n",
              "4  Christine Jacoba Aaftink   F  21.0  ...  Netherlands        Canada       1\n",
              "5  Christine Jacoba Aaftink   F  21.0  ...  Netherlands        Canada       1\n",
              "6  Christine Jacoba Aaftink   F  25.0  ...  Netherlands        France       1\n",
              "7  Christine Jacoba Aaftink   F  25.0  ...  Netherlands        France       1\n",
              "8  Christine Jacoba Aaftink   F  27.0  ...  Netherlands        Norway       1\n",
              "9  Christine Jacoba Aaftink   F  27.0  ...  Netherlands        Norway       1\n",
              "\n",
              "[10 rows x 16 columns]"
            ]
          },
          "metadata": {},
          "execution_count": 59
        }
      ]
    },
    {
      "cell_type": "markdown",
      "metadata": {
        "id": "ktXBSfNFXXSe"
      },
      "source": [
        "Dropping outliers for values greater than `0`"
      ],
      "id": "ktXBSfNFXXSe"
    },
    {
      "cell_type": "code",
      "metadata": {
        "id": "ba4284b4"
      },
      "source": [
        "olympics_merge_outliersDropped = olympics_merge.loc[(olympics_merge[\"outlier\"] > 0)]"
      ],
      "id": "ba4284b4",
      "execution_count": 60,
      "outputs": []
    },
    {
      "cell_type": "code",
      "metadata": {
        "colab": {
          "base_uri": "https://localhost:8080/"
        },
        "id": "a47640fc",
        "outputId": "7c650c58-d552-4ad2-8f33-a015b7e2631b"
      },
      "source": [
        "olympics_merge_outliersDropped.drop(columns= \"outlier\",inplace=True)"
      ],
      "id": "a47640fc",
      "execution_count": 61,
      "outputs": [
        {
          "output_type": "stream",
          "name": "stderr",
          "text": [
            "/usr/local/lib/python3.7/dist-packages/pandas/core/frame.py:4174: SettingWithCopyWarning: \n",
            "A value is trying to be set on a copy of a slice from a DataFrame\n",
            "\n",
            "See the caveats in the documentation: https://pandas.pydata.org/pandas-docs/stable/user_guide/indexing.html#returning-a-view-versus-a-copy\n",
            "  errors=errors,\n"
          ]
        }
      ]
    },
    {
      "cell_type": "markdown",
      "metadata": {
        "id": "4uwaCTZ4fgDH"
      },
      "source": [
        "\n",
        "\n",
        "```\n",
        "# This is formatted as code\n",
        "```\n",
        "\n",
        "now we plot the height and weight after removing the outliers\n"
      ],
      "id": "4uwaCTZ4fgDH"
    },
    {
      "cell_type": "code",
      "metadata": {
        "colab": {
          "base_uri": "https://localhost:8080/",
          "height": 0
        },
        "id": "JJk8Kunwfqsw",
        "outputId": "37afe612-c07a-4f4e-f0ce-a97295e8e1c5"
      },
      "source": [
        "plt.figure(figsize=(12,12))\n",
        "sns.regplot(olympics_merge_outliersDropped['Height'],olympics_merge_outliersDropped['Weight'])"
      ],
      "id": "JJk8Kunwfqsw",
      "execution_count": 62,
      "outputs": [
        {
          "output_type": "stream",
          "name": "stderr",
          "text": [
            "/usr/local/lib/python3.7/dist-packages/seaborn/_decorators.py:43: FutureWarning: Pass the following variables as keyword args: x, y. From version 0.12, the only valid positional argument will be `data`, and passing other arguments without an explicit keyword will result in an error or misinterpretation.\n",
            "  FutureWarning\n"
          ]
        },
        {
          "output_type": "execute_result",
          "data": {
            "text/plain": [
              "<matplotlib.axes._subplots.AxesSubplot at 0x7fade8476f10>"
            ]
          },
          "metadata": {},
          "execution_count": 62
        },
        {
          "output_type": "display_data",
          "data": {
            "image/png": "[encoded data removed]",
            "text/plain": [
              "<Figure size 864x864 with 1 Axes>"
            ]
          },
          "metadata": {}
        }
      ]
    },
    {
      "cell_type": "markdown",
      "metadata": {
        "id": "utAfjpN2groP"
      },
      "source": [
        "we see that now we have less outliers than before the LOF "
      ],
      "id": "utAfjpN2groP"
    },
    {
      "cell_type": "code",
      "metadata": {
        "colab": {
          "base_uri": "https://localhost:8080/"
        },
        "id": "652550f5",
        "outputId": "70e9eee2-7879-4866-9c7b-f7bdc5b67291"
      },
      "source": [
        "olympics_merge_outliersDropped.shape"
      ],
      "id": "652550f5",
      "execution_count": 63,
      "outputs": [
        {
          "output_type": "execute_result",
          "data": {
            "text/plain": [
              "(265534, 15)"
            ]
          },
          "metadata": {},
          "execution_count": 63
        }
      ]
    },
    {
      "cell_type": "markdown",
      "metadata": {
        "id": "M6t759M1YVk3"
      },
      "source": [
        "####Age"
      ],
      "id": "M6t759M1YVk3"
    },
    {
      "cell_type": "markdown",
      "metadata": {
        "id": "ldrOkzo1YY-G"
      },
      "source": [
        "The age values range from `[10 to 97]` as shown in the boxplot figure of the outlier in the visualtization before cleaning section. So, because all of these values are real, we can't get rid of any of them, so we've decided to keep all age outliers."
      ],
      "id": "ldrOkzo1YY-G"
    },
    {
      "cell_type": "markdown",
      "metadata": {
        "id": "8WO4xvwVMvAz"
      },
      "source": [
        "# Visualisations"
      ],
      "id": "8WO4xvwVMvAz"
    },
    {
      "cell_type": "markdown",
      "metadata": {
        "id": "-JzE83I2Qz7w"
      },
      "source": [
        "Age distribution between males and females \n",
        "\n"
      ],
      "id": "-JzE83I2Qz7w"
    },
    {
      "cell_type": "code",
      "metadata": {
        "colab": {
          "base_uri": "https://localhost:8080/"
        },
        "id": "ym3jPVQgOECG",
        "outputId": "76a00a25-6d12-4d37-9e33-9b374e47b4e4"
      },
      "source": [
        "gender_counts = olympics_merge_outliersDropped.Sex.value_counts()\n",
        "gender_counts"
      ],
      "id": "ym3jPVQgOECG",
      "execution_count": 64,
      "outputs": [
        {
          "output_type": "execute_result",
          "data": {
            "text/plain": [
              "M    192881\n",
              "F     72653\n",
              "Name: Sex, dtype: int64"
            ]
          },
          "metadata": {},
          "execution_count": 64
        }
      ]
    },
    {
      "cell_type": "markdown",
      "metadata": {
        "id": "cYvQ-wGLczr-"
      },
      "source": [
        "The graph shows that men make up the vast majority of the people in the dataset. This is useful information that will help with the research questions."
      ],
      "id": "cYvQ-wGLczr-"
    },
    {
      "cell_type": "code",
      "metadata": {
        "colab": {
          "base_uri": "https://localhost:8080/",
          "height": 477
        },
        "id": "QMsZFs8-OOAE",
        "outputId": "77faf8d6-0fb0-49f3-a96f-58d9bb539590"
      },
      "source": [
        "plt.figure(figsize=(12,6))\n",
        "plt.title('Gender Distribution')\n",
        "plt.pie(gender_counts, labels = gender_counts.index, autopct='%1.1f%%', startangle=150, shadow=True)"
      ],
      "id": "QMsZFs8-OOAE",
      "execution_count": 65,
      "outputs": [
        {
          "output_type": "execute_result",
          "data": {
            "text/plain": [
              "([<matplotlib.patches.Wedge at 0x7fade83722d0>,\n",
              "  <matplotlib.patches.Wedge at 0x7fade8372210>],\n",
              " [Text(0.2051771906049158, -1.0806952949168764, 'M'),\n",
              "  Text(-0.2051772917869115, 1.0806952757067965, 'F')],\n",
              " [Text(0.11191483123904497, -0.5894701608637507, '72.6%'),\n",
              "  Text(-0.11191488642922444, 0.5894701503855252, '27.4%')])"
            ]
          },
          "metadata": {},
          "execution_count": 65
        },
        {
          "output_type": "display_data",
          "data": {
            "image/png": "[encoded data removed]",
            "text/plain": [
              "<Figure size 864x432 with 1 Axes>"
            ]
          },
          "metadata": {}
        }
      ]
    },
    {
      "cell_type": "markdown",
      "metadata": {
        "id": "geV5OBYXbFrd"
      },
      "source": [
        "The medal distribution graph shows that the majority of participants did not win any medals, which is a true fact."
      ],
      "id": "geV5OBYXbFrd"
    },
    {
      "cell_type": "code",
      "metadata": {
        "colab": {
          "base_uri": "https://localhost:8080/",
          "height": 681
        },
        "id": "o7dmXC1amaCn",
        "outputId": "3196b0b0-fa18-49f4-df93-66747fc07c0e"
      },
      "source": [
        "fig, axes = plt.subplots(1)\n",
        "plt.tight_layout(pad = 1)\n",
        "plt.title(\"Distribution of  medals  across the dataset after data cleaning\")\n",
        "sns.countplot(x = \"Medal\", data = olympics_merge_outliersDropped)\n",
        "axes.set_xlabel(\"Medal\", fontsize = 10)\n",
        "axes.set_ylabel(\"Count\", fontsize = 10)\n",
        "sns.despine()\n"
      ],
      "id": "o7dmXC1amaCn",
      "execution_count": 66,
      "outputs": [
        {
          "output_type": "display_data",
          "data": {
            "image/png": "[encoded data removed]",
            "text/plain": [
              "<Figure size 720x648 with 1 Axes>"
            ]
          },
          "metadata": {}
        }
      ]
    },
    {
      "cell_type": "code",
      "metadata": {
        "colab": {
          "base_uri": "https://localhost:8080/"
        },
        "id": "Zy28ToCZHCNx",
        "outputId": "2674f663-d426-4168-ff35-520715349f71"
      },
      "source": [
        "olympics_merge_outliersDropped.Medal.unique()"
      ],
      "id": "Zy28ToCZHCNx",
      "execution_count": 67,
      "outputs": [
        {
          "output_type": "execute_result",
          "data": {
            "text/plain": [
              "array(['non', 'Gold', 'Bronze', 'Silver'], dtype=object)"
            ]
          },
          "metadata": {},
          "execution_count": 67
        }
      ]
    },
    {
      "cell_type": "code",
      "metadata": {
        "id": "mGNSSaFO8RKG"
      },
      "source": [
        "olympics_merge_outliersDropped = olympics_merge_outliersDropped.replace({'Medal':{'Gold': 1,'Silver': 1,'Bronze':1, 'non': 0}})"
      ],
      "id": "mGNSSaFO8RKG",
      "execution_count": 68,
      "outputs": []
    },
    {
      "cell_type": "code",
      "metadata": {
        "id": "8g77Wh_yG2by",
        "colab": {
          "base_uri": "https://localhost:8080/"
        },
        "outputId": "b43ba546-3a63-4ad8-fa3c-86402eb30209"
      },
      "source": [
        "olympics_merge_outliersDropped.Medal.unique()"
      ],
      "id": "8g77Wh_yG2by",
      "execution_count": 69,
      "outputs": [
        {
          "output_type": "execute_result",
          "data": {
            "text/plain": [
              "array([0, 1])"
            ]
          },
          "metadata": {},
          "execution_count": 69
        }
      ]
    },
    {
      "cell_type": "code",
      "metadata": {
        "id": "0d066a8b"
      },
      "source": [
        "summer_olympics = olympics_merge_outliersDropped[olympics_merge_outliersDropped.Season == 'Summer']\n",
        "winter_olympics = olympics_merge_outliersDropped[olympics_merge_outliersDropped.Season == 'Winter']"
      ],
      "id": "0d066a8b",
      "execution_count": 70,
      "outputs": []
    },
    {
      "cell_type": "code",
      "metadata": {
        "id": "_omG2j10DYLu",
        "colab": {
          "base_uri": "https://localhost:8080/"
        },
        "outputId": "dbee2d0c-4ce5-4c48-c545-8d7d34d9c44d"
      },
      "source": [
        "summer_medal_count = summer_olympics[['Host_Country','Medal']].groupby('Host_Country', as_index = False).sum()\n",
        "summer_medal_count = summer_medal_count[summer_medal_count.Medal>0].sort_values(by = ['Medal'], ascending = False).head(10)\n",
        "winter_medal_count = winter_olympics[['Host_Country','Medal']].groupby('Host_Country', as_index = False).sum()\n",
        "winter_medal_count = winter_medal_count[winter_medal_count.Medal>0].sort_values(by = 'Medal', ascending = False).head(10)\n",
        "\n",
        "print('-'*5,'SUMMER OLYMPICS', '-'*5)\n",
        "print(summer_medal_count)\n",
        "print()\n",
        "print('-'*5,'WINTER OLYMPICS', '-'*5)\n",
        "print(winter_medal_count)\n"
      ],
      "id": "_omG2j10DYLu",
      "execution_count": 71,
      "outputs": [
        {
          "output_type": "stream",
          "name": "stdout",
          "text": [
            "----- SUMMER OLYMPICS -----\n",
            "   Host_Country  Medal\n",
            "18          USA   4342\n",
            "17           UK   3532\n",
            "0     Australia   2795\n",
            "8        Greece   2538\n",
            "7       Germany   2095\n",
            "4         China   1976\n",
            "2        Brazil   1965\n",
            "15        Spain   1655\n",
            "14  South Korea   1539\n",
            "6        France   1428\n",
            "\n",
            "----- WINTER OLYMPICS -----\n",
            "              Host_Country  Medal\n",
            "10                     USA    922\n",
            "2                   Canada    757\n",
            "5                    Italy    658\n",
            "3                   France    639\n",
            "6                    Japan    616\n",
            "8                   Russia    589\n",
            "7                   Norway    445\n",
            "0                  Austria    387\n",
            "9              Switzerland    224\n",
            "1   Bosnia and Herzegovina    216\n"
          ]
        }
      ]
    },
    {
      "cell_type": "code",
      "metadata": {
        "id": "3pfjPdijH-Br",
        "colab": {
          "base_uri": "https://localhost:8080/",
          "height": 392
        },
        "outputId": "3bbf7794-64d2-4a9b-a498-3031154d4003"
      },
      "source": [
        "fig = plt.figure()\n",
        "ax = fig.add_axes([0,0,1,.5])\n",
        "ax.barh(summer_medal_count.Host_Country,summer_medal_count.Medal)\n",
        "ax.invert_yaxis()\n",
        "plt.title('Summer Olympics', fontsize = 16)\n",
        "fig.show()"
      ],
      "id": "3pfjPdijH-Br",
      "execution_count": 72,
      "outputs": [
        {
          "output_type": "display_data",
          "data": {
            "image/png": "[encoded data removed]",
            "text/plain": [
              "<Figure size 720x648 with 1 Axes>"
            ]
          },
          "metadata": {}
        }
      ]
    },
    {
      "cell_type": "code",
      "metadata": {
        "id": "IbxUMEJ0LlQ3",
        "colab": {
          "base_uri": "https://localhost:8080/",
          "height": 392
        },
        "outputId": "8aa88337-cdd3-4e21-b7fc-75b9d109a246"
      },
      "source": [
        "\n",
        "fig = plt.figure()\n",
        "ax = fig.add_axes([0,0,1,.5])\n",
        "ax.barh(winter_medal_count.Host_Country,winter_medal_count.Medal)\n",
        "ax.invert_yaxis()\n",
        "plt.title('Winter Olympics', fontsize = 16)\n",
        "fig.show()"
      ],
      "id": "IbxUMEJ0LlQ3",
      "execution_count": 73,
      "outputs": [
        {
          "output_type": "display_data",
          "data": {
            "image/png": "[encoded data removed]",
            "text/plain": [
              "<Figure size 720x648 with 1 Axes>"
            ]
          },
          "metadata": {}
        }
      ]
    },
    {
      "cell_type": "markdown",
      "metadata": {
        "id": "kdh7ZT7rRJJH"
      },
      "source": [
        "Age distribution over time between men and woman  (useful for further anylsis)"
      ],
      "id": "kdh7ZT7rRJJH"
    },
    {
      "cell_type": "code",
      "metadata": {
        "id": "e9484ff2",
        "colab": {
          "base_uri": "https://localhost:8080/",
          "height": 542
        },
        "outputId": "fdb0c1e6-7ca8-41a0-db78-2507ac2393c2"
      },
      "source": [
        "sns.set(rc={'figure.figsize':(25,10)})\n",
        "sns.boxplot(x=\"Year\", y=\"Age\", data=olympics_merge_outliersDropped[olympics_merge_outliersDropped['Sex']=='M'])\n",
        "\n"
      ],
      "id": "e9484ff2",
      "execution_count": 74,
      "outputs": [
        {
          "output_type": "execute_result",
          "data": {
            "text/plain": [
              "<matplotlib.axes._subplots.AxesSubplot at 0x7fade8191150>"
            ]
          },
          "metadata": {},
          "execution_count": 74
        },
        {
          "output_type": "display_data",
          "data": {
            "image/png": "[encoded data removed]",
            "text/plain": [
              "<Figure size 1800x720 with 1 Axes>"
            ]
          },
          "metadata": {}
        }
      ]
    },
    {
      "cell_type": "code",
      "metadata": {
        "id": "d8dc8871",
        "colab": {
          "base_uri": "https://localhost:8080/",
          "height": 544
        },
        "outputId": "bc810f5c-91af-453d-ea73-fb5f040331b8"
      },
      "source": [
        "sns.boxplot(x=\"Year\", y=\"Age\", data=olympics_merge_outliersDropped[olympics_merge_outliersDropped['Sex']=='F'])\n"
      ],
      "id": "d8dc8871",
      "execution_count": 75,
      "outputs": [
        {
          "output_type": "execute_result",
          "data": {
            "text/plain": [
              "<matplotlib.axes._subplots.AxesSubplot at 0x7fadea056490>"
            ]
          },
          "metadata": {},
          "execution_count": 75
        },
        {
          "output_type": "display_data",
          "data": {
            "image/png": "[encoded data removed]",
            "text/plain": [
              "<Figure size 1800x720 with 1 Axes>"
            ]
          },
          "metadata": {}
        }
      ]
    }
  ]
}